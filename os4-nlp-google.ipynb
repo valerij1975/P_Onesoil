{
 "cells": [
  {
   "cell_type": "markdown",
   "metadata": {},
   "source": [
    "**Данный ноутбук проводит анализ текста с использование Google Cloud Nature Library**\n",
    "\n",
    "**Расценки на использование данного API:**\n",
    "\n",
    "Использование вами естественного языка рассчитывается в виде **«единиц»**, где каждый документ, отправляемый в API для анализа, представляет собой **как минимум одну единицу**. Документы, содержащие более 1000 символов Unicode (включая символы пробелов и любые символы разметки, такие как HTML или XML-теги), считаются несколькими единицами, **одна единица на 1000 символов**.\n",
    "\n",
    "Цены на использование естественного языка рассчитываются **ежемесячно** в зависимости от того, какую функцию API вы использовали, и сколько единиц оценивается с использованием этих функций. В таблице ниже указана цена за 1000 единиц на основе **общего количества единиц, проанализированных в течение расчетного месяца**.\n",
    "\n",
    "1. - Entity Analysis\tIdentify entities and label by types such as person, organization, location, events, products and media.\n",
    "- до 5 тыс единиц - бесплатно, от 5 тыс до 1 млн - 1 долл/1 тыс\n",
    "2. - Sentiment Analysis\tUnderstand the overall sentiment expressed in a block of text.\n",
    "- до 5 тыс единиц - бесплатно, от 5 тыс до 1 млн - 1 долл/1 тыс\n",
    "3. - Entity Sentiment Analysis\tUnderstand the sentiment for entities identified in a block of text.\n",
    "- до 5 тыс единиц - бесплатно, от 5 тыс до 1 млн - 2 долл/1 тыс\n",
    "4. - Syntax Analysis\tExtract tokens and sentences, identify parts of speech (PoS) and create dependency parse trees for each sentence.\n",
    "- до 5 тыс единиц - бесплатно, от 5 тыс до 1 млн - 0,5 долл/1 тыс\n",
    "5. - Content Classification\tIdentify content categories that apply to a block of text.\n",
    "- до 30 тыс единиц - бесплатно, от 5 тыс до 1 млн - 2 долл/1 тыс\n",
    "\n",
    "В данной задаче мы будем использовать для анализа текстовых отзывов:\n",
    "- Sentiment Analysis (анализ настроений) - для оценки полярности и силы настроений;\n",
    "- Entity Analysis (анализ сущностей) - для выявления и классификации значимых слов;\n",
    "- Syntax Analysis (синтаксический анализ) - для разбиения на слова и предложения.\n",
    "\n",
    "- **После отработаки данного кода API key удален из текста кода в целях безопасности моего Google-аккаунта. Вся полученная в результате обработки инорфмациия сохранена в CSV-файл для дальнейшей работы**\n",
    "- **Датасет разбивал на мелкие подразделы, чтобы при случайном сбое не потерять данные, за получение которых произведена оплата использования API**\n",
    "- **Выгрузку полученных данных тоже сделал по частям, чтобы минимизировать размер отдельных файлов для загрузки на гитхаб**"
   ]
  },
  {
   "cell_type": "markdown",
   "metadata": {},
   "source": [
    "# Импорт библиотек и настройки"
   ]
  },
  {
   "cell_type": "code",
   "execution_count": 39,
   "metadata": {},
   "outputs": [],
   "source": [
    "import os\n",
    "import numpy as np\n",
    "import pandas as pd\n",
    "from google.cloud import language_v1\n",
    "from tqdm import tqdm\n",
    "\n",
    "# этот блок для отслеживания операций с Pandas\n",
    "from tqdm.notebook import tqdm_notebook\n",
    "tqdm_notebook.pandas()"
   ]
  },
  {
   "cell_type": "code",
   "execution_count": 40,
   "metadata": {},
   "outputs": [],
   "source": [
    "PATH = \"./data\" # относительный путь к подпапке.\n",
    "pd.set_option('display.max_columns', None)"
   ]
  },
  {
   "cell_type": "code",
   "execution_count": 41,
   "metadata": {},
   "outputs": [
    {
     "data": {
      "text/plain": [
       "(99224, 7)"
      ]
     },
     "execution_count": 41,
     "metadata": {},
     "output_type": "execute_result"
    }
   ],
   "source": [
    "df = pd.read_csv(os.path.join(PATH, 'order_reviews.csv'), sep=';')\n",
    "df.shape"
   ]
  },
  {
   "cell_type": "code",
   "execution_count": 42,
   "metadata": {},
   "outputs": [
    {
     "data": {
      "text/html": [
       "<div><div id=768648a0-b8dc-41dd-b300-c8253ac21e5b style=\"display:none; background-color:#9D6CFF; color:white; width:200px; height:30px; padding-left:5px; border-radius:4px; flex-direction:row; justify-content:space-around; align-items:center;\" onmouseover=\"this.style.backgroundColor='#BA9BF8'\" onmouseout=\"this.style.backgroundColor='#9D6CFF'\" onclick=\"window.commands?.execute('create-mitosheet-from-dataframe-output');\">See Full Dataframe in Mito</div> <script> if (window.commands.hasCommand('create-mitosheet-from-dataframe-output')) document.getElementById('768648a0-b8dc-41dd-b300-c8253ac21e5b').style.display = 'flex' </script> <table border=\"1\" class=\"dataframe\">\n",
       "  <thead>\n",
       "    <tr style=\"text-align: right;\">\n",
       "      <th></th>\n",
       "      <th>review_id</th>\n",
       "      <th>order_id</th>\n",
       "      <th>review_score</th>\n",
       "      <th>review_comment_title</th>\n",
       "      <th>review_comment_message</th>\n",
       "      <th>review_creation_date</th>\n",
       "      <th>review_answer_timestamp</th>\n",
       "    </tr>\n",
       "  </thead>\n",
       "  <tbody>\n",
       "    <tr>\n",
       "      <th>0</th>\n",
       "      <td>7bc2406110b926393aa56f80a40eba40</td>\n",
       "      <td>73fc7af87114b39712e6da79b0a377eb</td>\n",
       "      <td>4</td>\n",
       "      <td>NaN</td>\n",
       "      <td>NaN</td>\n",
       "      <td>2018-01-18 00:00:00</td>\n",
       "      <td>2018-01-18 21:46:59</td>\n",
       "    </tr>\n",
       "    <tr>\n",
       "      <th>1</th>\n",
       "      <td>80e641a11e56f04c1ad469d5645fdfde</td>\n",
       "      <td>a548910a1c6147796b98fdf73dbeba33</td>\n",
       "      <td>5</td>\n",
       "      <td>NaN</td>\n",
       "      <td>NaN</td>\n",
       "      <td>2018-03-10 00:00:00</td>\n",
       "      <td>2018-03-11 03:05:13</td>\n",
       "    </tr>\n",
       "    <tr>\n",
       "      <th>2</th>\n",
       "      <td>228ce5500dc1d8e020d8d1322874b6f0</td>\n",
       "      <td>f9e4b658b201a9f2ecdecbb34bed034b</td>\n",
       "      <td>5</td>\n",
       "      <td>NaN</td>\n",
       "      <td>NaN</td>\n",
       "      <td>2018-02-17 00:00:00</td>\n",
       "      <td>2018-02-18 14:36:24</td>\n",
       "    </tr>\n",
       "    <tr>\n",
       "      <th>3</th>\n",
       "      <td>e64fb393e7b32834bb789ff8bb30750e</td>\n",
       "      <td>658677c97b385a9be170737859d3511b</td>\n",
       "      <td>5</td>\n",
       "      <td>NaN</td>\n",
       "      <td>Recebi bem antes do prazo estipulado.</td>\n",
       "      <td>2017-04-21 00:00:00</td>\n",
       "      <td>2017-04-21 22:02:06</td>\n",
       "    </tr>\n",
       "    <tr>\n",
       "      <th>4</th>\n",
       "      <td>f7c4243c7fe1938f181bec41a392bdeb</td>\n",
       "      <td>8e6bfb81e283fa7e4f11123a3fb894f1</td>\n",
       "      <td>5</td>\n",
       "      <td>NaN</td>\n",
       "      <td>Parabéns lojas lannister adorei comprar pela Internet seguro e prático Parabéns a todos feliz Páscoa</td>\n",
       "      <td>2018-03-01 00:00:00</td>\n",
       "      <td>2018-03-02 10:26:53</td>\n",
       "    </tr>\n",
       "  </tbody>\n",
       "</table></div>"
      ],
      "text/plain": [
       "                          review_id                          order_id  \\\n",
       "0  7bc2406110b926393aa56f80a40eba40  73fc7af87114b39712e6da79b0a377eb   \n",
       "1  80e641a11e56f04c1ad469d5645fdfde  a548910a1c6147796b98fdf73dbeba33   \n",
       "2  228ce5500dc1d8e020d8d1322874b6f0  f9e4b658b201a9f2ecdecbb34bed034b   \n",
       "3  e64fb393e7b32834bb789ff8bb30750e  658677c97b385a9be170737859d3511b   \n",
       "4  f7c4243c7fe1938f181bec41a392bdeb  8e6bfb81e283fa7e4f11123a3fb894f1   \n",
       "\n",
       "   review_score review_comment_title  \\\n",
       "0             4                  NaN   \n",
       "1             5                  NaN   \n",
       "2             5                  NaN   \n",
       "3             5                  NaN   \n",
       "4             5                  NaN   \n",
       "\n",
       "                              review_comment_message review_creation_date  \\\n",
       "0                                                NaN  2018-01-18 00:00:00   \n",
       "1                                                NaN  2018-03-10 00:00:00   \n",
       "2                                                NaN  2018-02-17 00:00:00   \n",
       "3              Recebi bem antes do prazo estipulado.  2017-04-21 00:00:00   \n",
       "4  Parabéns lojas lannister adorei comprar pela I...  2018-03-01 00:00:00   \n",
       "\n",
       "  review_answer_timestamp  \n",
       "0     2018-01-18 21:46:59  \n",
       "1     2018-03-11 03:05:13  \n",
       "2     2018-02-18 14:36:24  \n",
       "3     2017-04-21 22:02:06  \n",
       "4     2018-03-02 10:26:53  "
      ]
     },
     "execution_count": 42,
     "metadata": {},
     "output_type": "execute_result"
    }
   ],
   "source": [
    "df.head()"
   ]
  },
  {
   "cell_type": "markdown",
   "metadata": {},
   "source": [
    "# Предобработка датасета. Прогнозирование затрат на обработку\n",
    "\n",
    "- Прогнозировали - 42706*3=128118 запросов и сумму расходов 94,3 долл.\n",
    "- Фактически - 128082 запроса и сумма расходов: 80.65 евро, в т.ч. entity analysis - 32.3 euro, sentimental - 32.3 euro, syntax - 16.13\n",
    "\n",
    "-"
   ]
  },
  {
   "cell_type": "code",
   "execution_count": 43,
   "metadata": {},
   "outputs": [
    {
     "data": {
      "application/vnd.jupyter.widget-view+json": {
       "model_id": "96c34bdd4c2240efbd575ad141111c32",
       "version_major": 2,
       "version_minor": 0
      },
      "text/plain": [
       "  0%|          | 0/99224 [00:00<?, ?it/s]"
      ]
     },
     "metadata": {},
     "output_type": "display_data"
    }
   ],
   "source": [
    "df['C']=df.progress_apply(lambda x: (\"\" if pd.isna(x['review_comment_title']) else str(x['review_comment_title']) + '. ')\\\n",
    "                                 + (\"\" if pd.isna(x['review_comment_message']) else str(x['review_comment_message'])), axis=1)"
   ]
  },
  {
   "cell_type": "code",
   "execution_count": 44,
   "metadata": {},
   "outputs": [
    {
     "name": "stdout",
     "output_type": "stream",
     "text": [
      "Количество отзывов (единиц) для отправки в API:  42706\n",
      "Прогнозная стоимость обработки в API, долл:  94.26500000000001\n"
     ]
    }
   ],
   "source": [
    "count_reviews=df.apply(lambda x: 0 if x['C']==\"\" else 1, axis=1).sum()\n",
    "print('Количество отзывов (единиц) для отправки в API: ', count_reviews)\n",
    "print('Прогнозная стоимость обработки в API, долл: ', (count_reviews-5000)/1000*2.5)"
   ]
  },
  {
   "cell_type": "markdown",
   "metadata": {},
   "source": [
    "# Функции обработки датасета"
   ]
  },
  {
   "cell_type": "code",
   "execution_count": 45,
   "metadata": {},
   "outputs": [],
   "source": [
    "# фильтрует датасет и направляет для обработки в API ненулевые значения, чтобы не платить за пустые запросы.\n",
    "# и она же вызывает три функции API Google\n",
    "def get_text_for_nlp(message):\n",
    "    if len(message)<2:\n",
    "        #print(0)\n",
    "        return 0\n",
    "    else:\n",
    "        #print(message)\n",
    "        sent_score, sent_magnitude=analyze_text_sentiment(message) # два значения \n",
    "        entities_list=analyze_text_entities(message) # список со словарями сущностей\n",
    "        sent_count, token_count, sentlist, tokenlist =analyze_text_syntax2(message) # синтаксический анализ\n",
    "        return sent_score, sent_magnitude, entities_list, sent_count, token_count, sentlist, tokenlist"
   ]
  },
  {
   "cell_type": "code",
   "execution_count": 46,
   "metadata": {},
   "outputs": [],
   "source": [
    "def analyze_text_sentiment(text):\n",
    "    try:\n",
    "        client = language_v1.LanguageServiceClient.from_service_account_json('celestial-digit-0000000000.json')\n",
    "        document = language_v1.Document(content=text, type_=language_v1.Document.Type.PLAIN_TEXT)\n",
    "        response = client.analyze_sentiment(document=document)\n",
    "        sentiment = response.document_sentiment\n",
    "        return sentiment.score, sentiment.magnitude\n",
    "    except Exception:\n",
    "        print('Ошибка в функции sentiment')  \n",
    "        return 'НЕТ', 'НЕТ'"
   ]
  },
  {
   "cell_type": "code",
   "execution_count": 47,
   "metadata": {},
   "outputs": [],
   "source": [
    "def analyze_text_entities(text):\n",
    "    try:\n",
    "        client = language_v1.LanguageServiceClient.from_service_account_json('celestial-digit-00000000000.json')\n",
    "        document = language_v1.Document(content=text, type_=language_v1.Document.Type.PLAIN_TEXT)\n",
    "        response = client.analyze_entities(document=document)\n",
    "        sss=[]\n",
    "        for entity in response.entities:\n",
    "            results = dict(\n",
    "                name=entity.name,\n",
    "                type=entity.type_.name,\n",
    "                salience=entity.salience,\n",
    "                wikipedia_url=entity.metadata.get(\"wikipedia_url\", \"-\"),\n",
    "                mid=entity.metadata.get(\"mid\", \"-\"),\n",
    "            )\n",
    "            sss.append(results)\n",
    "\n",
    "        return sss\n",
    "    except Exception:\n",
    "        print('Ошибка в функции entities')  \n",
    "        return 'НЕТ'"
   ]
  },
  {
   "cell_type": "code",
   "execution_count": 48,
   "metadata": {},
   "outputs": [],
   "source": [
    "def analyze_text_syntax2(text):\n",
    "    try:\n",
    "        client = language_v1.LanguageServiceClient.from_service_account_json('celestial-digit-00000000000.json')\n",
    "        document = language_v1.Document(content=text, type_=language_v1.Document.Type.PLAIN_TEXT)\n",
    "\n",
    "        response = client.analyze_syntax(document=document)\n",
    "\n",
    "        sent_count=len(response.sentences)\n",
    "        token_count=len(response.tokens)\n",
    "        sentlist=[]\n",
    "        for sentence in response.sentences:\n",
    "            sentlist.append(sentence.text.content)\n",
    "        tokenlist=[]    \n",
    "        for token in response.tokens:\n",
    "            results = dict(\n",
    "                token_text=token.text.content,\n",
    "                token_label=token.dependency_edge.label.name,\n",
    "                token_head_index=token.dependency_edge.head_token_index,\n",
    "                token_tag=token.part_of_speech.tag.name,\n",
    "                token_gender=token.part_of_speech.gender.name,\n",
    "                token_number=token.part_of_speech.number.name,\n",
    "                token_proper=token.part_of_speech.proper.name,\n",
    "                token_lemma=token.lemma,\n",
    "            )\n",
    "            tokenlist.append(results)    \n",
    "        return sent_count, token_count, sentlist, tokenlist\n",
    "    except Exception:\n",
    "        print('Ошибка в функции syntax2')  \n",
    "        return 'НЕТ', 'НЕТ','НЕТ','НЕТ'"
   ]
  },
  {
   "cell_type": "markdown",
   "metadata": {},
   "source": [
    "# Запуск обработки\n",
    "\n",
    "Так как это долгий процесс на моем оборудовании, а также в связи с возникновением сбоев на стороне API и чтобы не потерять обработанную информацию, то датасет разбивал на очень маленькие разделы для отправления в обработку.\n",
    "\n",
    "**Итого обработка заняла почти сутки**"
   ]
  },
  {
   "cell_type": "code",
   "execution_count": 55,
   "metadata": {},
   "outputs": [
    {
     "name": "stderr",
     "output_type": "stream",
     "text": [
      "  0%|          | 0/42 [00:00<?, ?it/s]"
     ]
    },
    {
     "name": "stdout",
     "output_type": "stream",
     "text": [
      "c  0  до включительно  1000\n",
      "7bc2406110b926393aa56f80a40eba40 --- 05c968cc75440c647f58e6bfe1ee15bb --- (1000,)\n"
     ]
    },
    {
     "data": {
      "application/vnd.jupyter.widget-view+json": {
       "model_id": "0f7bfb96d97c4a8084b464f76803a354",
       "version_major": 2,
       "version_minor": 0
      },
      "text/plain": [
       "  0%|          | 0/1000 [00:00<?, ?it/s]"
      ]
     },
     "metadata": {},
     "output_type": "display_data"
    },
    {
     "name": "stderr",
     "output_type": "stream",
     "text": [
      "/opt/conda/lib/python3.7/site-packages/ipykernel_launcher.py:6: SettingWithCopyWarning: \n",
      "A value is trying to be set on a copy of a slice from a DataFrame\n",
      "\n",
      "See the caveats in the documentation: https://pandas.pydata.org/pandas-docs/stable/user_guide/indexing.html#returning-a-view-versus-a-copy\n",
      "  \n",
      "  2%|▏         | 1/42 [12:46<8:43:57, 766.77s/it]"
     ]
    },
    {
     "name": "stdout",
     "output_type": "stream",
     "text": [
      "c  1000  до включительно  2000\n",
      "05c968cc75440c647f58e6bfe1ee15bb --- 7629603f1f362dd403eb621d7653c896 --- (1000,)\n"
     ]
    },
    {
     "data": {
      "application/vnd.jupyter.widget-view+json": {
       "model_id": "7324c96763e644958ccb2a6f528d605e",
       "version_major": 2,
       "version_minor": 0
      },
      "text/plain": [
       "  0%|          | 0/1000 [00:00<?, ?it/s]"
      ]
     },
     "metadata": {},
     "output_type": "display_data"
    },
    {
     "name": "stderr",
     "output_type": "stream",
     "text": [
      "  5%|▍         | 2/42 [26:37<8:56:06, 804.17s/it]"
     ]
    },
    {
     "name": "stdout",
     "output_type": "stream",
     "text": [
      "c  2000  до включительно  3000\n",
      "7629603f1f362dd403eb621d7653c896 --- 8292b3112397241abd44d49c2fd59d98 --- (1000,)\n"
     ]
    },
    {
     "data": {
      "application/vnd.jupyter.widget-view+json": {
       "model_id": "492b20f449eb4278960ad51bdbff9039",
       "version_major": 2,
       "version_minor": 0
      },
      "text/plain": [
       "  0%|          | 0/1000 [00:00<?, ?it/s]"
      ]
     },
     "metadata": {},
     "output_type": "display_data"
    },
    {
     "name": "stderr",
     "output_type": "stream",
     "text": [
      "  7%|▋         | 3/42 [37:20<7:55:02, 730.84s/it]"
     ]
    },
    {
     "name": "stdout",
     "output_type": "stream",
     "text": [
      "c  3000  до включительно  4000\n",
      "8292b3112397241abd44d49c2fd59d98 --- 25cac81072dcb50ac7af0084057be701 --- (1000,)\n"
     ]
    },
    {
     "data": {
      "application/vnd.jupyter.widget-view+json": {
       "model_id": "e8498bc9e4bf47ce907d0a1b1d90e1c7",
       "version_major": 2,
       "version_minor": 0
      },
      "text/plain": [
       "  0%|          | 0/1000 [00:00<?, ?it/s]"
      ]
     },
     "metadata": {},
     "output_type": "display_data"
    },
    {
     "name": "stderr",
     "output_type": "stream",
     "text": [
      " 10%|▉         | 4/42 [50:35<7:58:47, 755.98s/it]"
     ]
    },
    {
     "name": "stdout",
     "output_type": "stream",
     "text": [
      "c  4000  до включительно  5000\n",
      "25cac81072dcb50ac7af0084057be701 --- 0c400fbf71ed619d19a4273f8e2d9a3f --- (1000,)\n"
     ]
    },
    {
     "data": {
      "application/vnd.jupyter.widget-view+json": {
       "model_id": "60c56706ebef47ffac27769700fd72e4",
       "version_major": 2,
       "version_minor": 0
      },
      "text/plain": [
       "  0%|          | 0/1000 [00:00<?, ?it/s]"
      ]
     },
     "metadata": {},
     "output_type": "display_data"
    },
    {
     "name": "stderr",
     "output_type": "stream",
     "text": [
      " 12%|█▏        | 5/42 [1:01:12<7:19:49, 713.22s/it]"
     ]
    },
    {
     "name": "stdout",
     "output_type": "stream",
     "text": [
      "c  5000  до включительно  6000\n",
      "0c400fbf71ed619d19a4273f8e2d9a3f --- 426b56dd6bc3022df2b2ce5f0f4613ce --- (1000,)\n"
     ]
    },
    {
     "data": {
      "application/vnd.jupyter.widget-view+json": {
       "model_id": "abb8f7fcaef34f53b0dbc5476aa43f05",
       "version_major": 2,
       "version_minor": 0
      },
      "text/plain": [
       "  0%|          | 0/1000 [00:00<?, ?it/s]"
      ]
     },
     "metadata": {},
     "output_type": "display_data"
    },
    {
     "name": "stdout",
     "output_type": "stream",
     "text": [
      "Ошибка в функции sentiment\n",
      "Ошибка в функции entities\n",
      "Ошибка в функции syntax2\n"
     ]
    },
    {
     "name": "stderr",
     "output_type": "stream",
     "text": [
      " 14%|█▍        | 6/42 [1:12:51<7:04:59, 708.33s/it]"
     ]
    },
    {
     "name": "stdout",
     "output_type": "stream",
     "text": [
      "c  6000  до включительно  7000\n",
      "426b56dd6bc3022df2b2ce5f0f4613ce --- 7bb6a0af8607b9c0ec4cb7ccbfc15863 --- (1000,)\n"
     ]
    },
    {
     "data": {
      "application/vnd.jupyter.widget-view+json": {
       "model_id": "6d1bccb677c84b60833ff4c3548cd54b",
       "version_major": 2,
       "version_minor": 0
      },
      "text/plain": [
       "  0%|          | 0/1000 [00:00<?, ?it/s]"
      ]
     },
     "metadata": {},
     "output_type": "display_data"
    },
    {
     "name": "stderr",
     "output_type": "stream",
     "text": [
      " 17%|█▋        | 7/42 [1:27:10<7:21:59, 757.70s/it]"
     ]
    },
    {
     "name": "stdout",
     "output_type": "stream",
     "text": [
      "c  7000  до включительно  8000\n",
      "7bb6a0af8607b9c0ec4cb7ccbfc15863 --- e1db3dfe4999562ba222a60c4919e389 --- (1000,)\n"
     ]
    },
    {
     "data": {
      "application/vnd.jupyter.widget-view+json": {
       "model_id": "917772cb3ff54b4baa479059b5a471f3",
       "version_major": 2,
       "version_minor": 0
      },
      "text/plain": [
       "  0%|          | 0/1000 [00:00<?, ?it/s]"
      ]
     },
     "metadata": {},
     "output_type": "display_data"
    },
    {
     "name": "stderr",
     "output_type": "stream",
     "text": [
      " 19%|█▉        | 8/42 [1:38:51<6:59:00, 739.42s/it]"
     ]
    },
    {
     "name": "stdout",
     "output_type": "stream",
     "text": [
      "c  8000  до включительно  9000\n",
      "e1db3dfe4999562ba222a60c4919e389 --- 6c09da3097e834eb20846d6534175ef2 --- (1000,)\n"
     ]
    },
    {
     "data": {
      "application/vnd.jupyter.widget-view+json": {
       "model_id": "1a55309b473b4b97900cf78a21bf0d4b",
       "version_major": 2,
       "version_minor": 0
      },
      "text/plain": [
       "  0%|          | 0/1000 [00:00<?, ?it/s]"
      ]
     },
     "metadata": {},
     "output_type": "display_data"
    },
    {
     "name": "stderr",
     "output_type": "stream",
     "text": [
      "Exception deserializing message!\n",
      "Traceback (most recent call last):\n",
      "  File \"/opt/conda/lib/python3.7/site-packages/grpc/_common.py\", line 86, in _transform\n",
      "    return transformer(message)\n",
      "  File \"/opt/conda/lib/python3.7/site-packages/proto/message.py\", line 328, in deserialize\n",
      "    return cls.wrap(cls.pb().FromString(payload))\n",
      "google.protobuf.message.DecodeError: Error parsing message\n"
     ]
    },
    {
     "name": "stdout",
     "output_type": "stream",
     "text": [
      "Ошибка в функции entities\n"
     ]
    },
    {
     "name": "stderr",
     "output_type": "stream",
     "text": [
      "Exception deserializing message!\n",
      "Traceback (most recent call last):\n",
      "  File \"/opt/conda/lib/python3.7/site-packages/grpc/_common.py\", line 86, in _transform\n",
      "    return transformer(message)\n",
      "  File \"/opt/conda/lib/python3.7/site-packages/proto/message.py\", line 328, in deserialize\n",
      "    return cls.wrap(cls.pb().FromString(payload))\n",
      "google.protobuf.message.DecodeError: Error parsing message\n"
     ]
    },
    {
     "name": "stdout",
     "output_type": "stream",
     "text": [
      "Ошибка в функции syntax2\n"
     ]
    },
    {
     "name": "stderr",
     "output_type": "stream",
     "text": [
      " 21%|██▏       | 9/42 [1:50:45<6:42:27, 731.75s/it]"
     ]
    },
    {
     "name": "stdout",
     "output_type": "stream",
     "text": [
      "c  9000  до включительно  10000\n",
      "6c09da3097e834eb20846d6534175ef2 --- 8fbd9b5bf6e46b1d1c725b71304ac6e3 --- (1000,)\n"
     ]
    },
    {
     "data": {
      "application/vnd.jupyter.widget-view+json": {
       "model_id": "19f1454b0de4470bbf7ffef9d094295a",
       "version_major": 2,
       "version_minor": 0
      },
      "text/plain": [
       "  0%|          | 0/1000 [00:00<?, ?it/s]"
      ]
     },
     "metadata": {},
     "output_type": "display_data"
    },
    {
     "name": "stderr",
     "output_type": "stream",
     "text": [
      " 24%|██▍       | 10/42 [2:03:15<6:33:15, 737.35s/it]"
     ]
    },
    {
     "name": "stdout",
     "output_type": "stream",
     "text": [
      "c  10000  до включительно  11000\n",
      "8fbd9b5bf6e46b1d1c725b71304ac6e3 --- c5d6f87266cde6522df2c73b3496c571 --- (1000,)\n"
     ]
    },
    {
     "data": {
      "application/vnd.jupyter.widget-view+json": {
       "model_id": "5ecf36676ef1448b8495d359167e5628",
       "version_major": 2,
       "version_minor": 0
      },
      "text/plain": [
       "  0%|          | 0/1000 [00:00<?, ?it/s]"
      ]
     },
     "metadata": {},
     "output_type": "display_data"
    },
    {
     "name": "stderr",
     "output_type": "stream",
     "text": [
      " 26%|██▌       | 11/42 [2:17:56<6:43:41, 781.35s/it]"
     ]
    },
    {
     "name": "stdout",
     "output_type": "stream",
     "text": [
      "c  11000  до включительно  12000\n",
      "c5d6f87266cde6522df2c73b3496c571 --- b1e892910a12ce5ace5b1e9d89c0290d --- (1000,)\n"
     ]
    },
    {
     "data": {
      "application/vnd.jupyter.widget-view+json": {
       "model_id": "228b83abc1c649a88878137e6ba64f7d",
       "version_major": 2,
       "version_minor": 0
      },
      "text/plain": [
       "  0%|          | 0/1000 [00:00<?, ?it/s]"
      ]
     },
     "metadata": {},
     "output_type": "display_data"
    },
    {
     "name": "stderr",
     "output_type": "stream",
     "text": [
      " 29%|██▊       | 12/42 [2:29:02<6:13:08, 746.27s/it]"
     ]
    },
    {
     "name": "stdout",
     "output_type": "stream",
     "text": [
      "c  12000  до включительно  13000\n",
      "b1e892910a12ce5ace5b1e9d89c0290d --- 77adf122f8d73e7fc01619f02d18c936 --- (1000,)\n"
     ]
    },
    {
     "data": {
      "application/vnd.jupyter.widget-view+json": {
       "model_id": "e84984f9f9204fd08c005e8ca4cdfce2",
       "version_major": 2,
       "version_minor": 0
      },
      "text/plain": [
       "  0%|          | 0/1000 [00:00<?, ?it/s]"
      ]
     },
     "metadata": {},
     "output_type": "display_data"
    },
    {
     "name": "stderr",
     "output_type": "stream",
     "text": [
      " 31%|███       | 13/42 [2:41:17<5:59:02, 742.83s/it]"
     ]
    },
    {
     "name": "stdout",
     "output_type": "stream",
     "text": [
      "c  13000  до включительно  14000\n",
      "77adf122f8d73e7fc01619f02d18c936 --- 888bf415256c6c641b44edac8fda1b52 --- (1000,)\n"
     ]
    },
    {
     "data": {
      "application/vnd.jupyter.widget-view+json": {
       "model_id": "b3e10677b4b94c94b28ed49af48f55d2",
       "version_major": 2,
       "version_minor": 0
      },
      "text/plain": [
       "  0%|          | 0/1000 [00:00<?, ?it/s]"
      ]
     },
     "metadata": {},
     "output_type": "display_data"
    },
    {
     "name": "stderr",
     "output_type": "stream",
     "text": [
      " 33%|███▎      | 14/42 [2:53:00<5:40:58, 730.66s/it]"
     ]
    },
    {
     "name": "stdout",
     "output_type": "stream",
     "text": [
      "c  14000  до включительно  15000\n",
      "888bf415256c6c641b44edac8fda1b52 --- 35fa52c2add68883398f48be3f868aaa --- (1000,)\n"
     ]
    },
    {
     "data": {
      "application/vnd.jupyter.widget-view+json": {
       "model_id": "df2695ea95ba49d1804a0ecaac0b28ea",
       "version_major": 2,
       "version_minor": 0
      },
      "text/plain": [
       "  0%|          | 0/1000 [00:00<?, ?it/s]"
      ]
     },
     "metadata": {},
     "output_type": "display_data"
    },
    {
     "name": "stderr",
     "output_type": "stream",
     "text": [
      " 36%|███▌      | 15/42 [3:08:56<5:59:18, 798.48s/it]"
     ]
    },
    {
     "name": "stdout",
     "output_type": "stream",
     "text": [
      "c  15000  до включительно  16000\n",
      "35fa52c2add68883398f48be3f868aaa --- 4901a82bfc69128ad56a445b68f64185 --- (1000,)\n"
     ]
    },
    {
     "data": {
      "application/vnd.jupyter.widget-view+json": {
       "model_id": "eaab04293575474d9124bd3e624fc0c0",
       "version_major": 2,
       "version_minor": 0
      },
      "text/plain": [
       "  0%|          | 0/1000 [00:00<?, ?it/s]"
      ]
     },
     "metadata": {},
     "output_type": "display_data"
    },
    {
     "name": "stderr",
     "output_type": "stream",
     "text": [
      " 38%|███▊      | 16/42 [3:19:57<5:28:09, 757.29s/it]"
     ]
    },
    {
     "name": "stdout",
     "output_type": "stream",
     "text": [
      "c  16000  до включительно  17000\n",
      "4901a82bfc69128ad56a445b68f64185 --- e1267be1f3438b5904e2e676a8814599 --- (1000,)\n"
     ]
    },
    {
     "data": {
      "application/vnd.jupyter.widget-view+json": {
       "model_id": "5581c7d7cfce48b6b9228a59563bd5b6",
       "version_major": 2,
       "version_minor": 0
      },
      "text/plain": [
       "  0%|          | 0/1000 [00:00<?, ?it/s]"
      ]
     },
     "metadata": {},
     "output_type": "display_data"
    },
    {
     "name": "stderr",
     "output_type": "stream",
     "text": [
      " 40%|████      | 17/42 [3:31:00<5:03:44, 728.99s/it]"
     ]
    },
    {
     "name": "stdout",
     "output_type": "stream",
     "text": [
      "c  17000  до включительно  18000\n",
      "e1267be1f3438b5904e2e676a8814599 --- 3aeb06b1ecf68567a52006bfe7f73048 --- (1000,)\n"
     ]
    },
    {
     "data": {
      "application/vnd.jupyter.widget-view+json": {
       "model_id": "d0884ad3210947afb330893cfdb8e011",
       "version_major": 2,
       "version_minor": 0
      },
      "text/plain": [
       "  0%|          | 0/1000 [00:00<?, ?it/s]"
      ]
     },
     "metadata": {},
     "output_type": "display_data"
    },
    {
     "name": "stdout",
     "output_type": "stream",
     "text": [
      "Ошибка в функции entities\n",
      "Ошибка в функции syntax2\n"
     ]
    },
    {
     "name": "stderr",
     "output_type": "stream",
     "text": [
      " 43%|████▎     | 18/42 [3:43:38<4:54:59, 737.46s/it]"
     ]
    },
    {
     "name": "stdout",
     "output_type": "stream",
     "text": [
      "c  18000  до включительно  19000\n",
      "3aeb06b1ecf68567a52006bfe7f73048 --- b2198ad6a8cb6a2547bd213ab35eb223 --- (1000,)\n"
     ]
    },
    {
     "data": {
      "application/vnd.jupyter.widget-view+json": {
       "model_id": "0449563372b24d24aae62f2c981e8e4c",
       "version_major": 2,
       "version_minor": 0
      },
      "text/plain": [
       "  0%|          | 0/1000 [00:00<?, ?it/s]"
      ]
     },
     "metadata": {},
     "output_type": "display_data"
    },
    {
     "name": "stderr",
     "output_type": "stream",
     "text": [
      " 45%|████▌     | 19/42 [3:58:05<4:57:41, 776.57s/it]"
     ]
    },
    {
     "name": "stdout",
     "output_type": "stream",
     "text": [
      "c  19000  до включительно  20000\n",
      "b2198ad6a8cb6a2547bd213ab35eb223 --- 17b6e3335e693e1f2fff95bc04fce1f7 --- (1000,)\n"
     ]
    },
    {
     "data": {
      "application/vnd.jupyter.widget-view+json": {
       "model_id": "acd262324e1244a499b8aa157ccf4976",
       "version_major": 2,
       "version_minor": 0
      },
      "text/plain": [
       "  0%|          | 0/1000 [00:00<?, ?it/s]"
      ]
     },
     "metadata": {},
     "output_type": "display_data"
    },
    {
     "name": "stderr",
     "output_type": "stream",
     "text": [
      " 48%|████▊     | 20/42 [4:09:09<4:32:20, 742.75s/it]"
     ]
    },
    {
     "name": "stdout",
     "output_type": "stream",
     "text": [
      "c  20000  до включительно  21000\n",
      "17b6e3335e693e1f2fff95bc04fce1f7 --- af847569cda23e95dc0c7365163c0495 --- (1000,)\n"
     ]
    },
    {
     "data": {
      "application/vnd.jupyter.widget-view+json": {
       "model_id": "f729bf4aa86d4159ba222e9da2bf1bf5",
       "version_major": 2,
       "version_minor": 0
      },
      "text/plain": [
       "  0%|          | 0/1000 [00:00<?, ?it/s]"
      ]
     },
     "metadata": {},
     "output_type": "display_data"
    },
    {
     "name": "stderr",
     "output_type": "stream",
     "text": [
      " 50%|█████     | 21/42 [4:25:50<4:47:03, 820.16s/it]"
     ]
    },
    {
     "name": "stdout",
     "output_type": "stream",
     "text": [
      "c  21000  до включительно  22000\n",
      "af847569cda23e95dc0c7365163c0495 --- 62f27c130b3a70abbfa58b65cdbffd06 --- (1000,)\n"
     ]
    },
    {
     "data": {
      "application/vnd.jupyter.widget-view+json": {
       "model_id": "b5478b85d9f8486e9640583bf851a048",
       "version_major": 2,
       "version_minor": 0
      },
      "text/plain": [
       "  0%|          | 0/1000 [00:00<?, ?it/s]"
      ]
     },
     "metadata": {},
     "output_type": "display_data"
    },
    {
     "name": "stderr",
     "output_type": "stream",
     "text": [
      " 52%|█████▏    | 22/42 [4:40:46<4:40:57, 842.89s/it]"
     ]
    },
    {
     "name": "stdout",
     "output_type": "stream",
     "text": [
      "c  22000  до включительно  23000\n",
      "62f27c130b3a70abbfa58b65cdbffd06 --- 495b3621654bfa0af2a08d9347606c4b --- (1000,)\n"
     ]
    },
    {
     "data": {
      "application/vnd.jupyter.widget-view+json": {
       "model_id": "1c6fdf4d6ba8494c9ea716caef287f98",
       "version_major": 2,
       "version_minor": 0
      },
      "text/plain": [
       "  0%|          | 0/1000 [00:00<?, ?it/s]"
      ]
     },
     "metadata": {},
     "output_type": "display_data"
    },
    {
     "name": "stdout",
     "output_type": "stream",
     "text": [
      "Ошибка в функции entities\n",
      "Ошибка в функции syntax2\n"
     ]
    },
    {
     "name": "stderr",
     "output_type": "stream",
     "text": [
      " 55%|█████▍    | 23/42 [4:52:03<4:11:11, 793.26s/it]"
     ]
    },
    {
     "name": "stdout",
     "output_type": "stream",
     "text": [
      "c  23000  до включительно  24000\n",
      "495b3621654bfa0af2a08d9347606c4b --- f627308e512f909fd55b2c4a962a5294 --- (1000,)\n"
     ]
    },
    {
     "data": {
      "application/vnd.jupyter.widget-view+json": {
       "model_id": "16a5735aa8ca4d638958a42a45b5de7b",
       "version_major": 2,
       "version_minor": 0
      },
      "text/plain": [
       "  0%|          | 0/1000 [00:00<?, ?it/s]"
      ]
     },
     "metadata": {},
     "output_type": "display_data"
    },
    {
     "name": "stderr",
     "output_type": "stream",
     "text": [
      " 57%|█████▋    | 24/42 [5:00:00<3:29:28, 698.28s/it]"
     ]
    },
    {
     "name": "stdout",
     "output_type": "stream",
     "text": [
      "c  24000  до включительно  25000\n",
      "f627308e512f909fd55b2c4a962a5294 --- 047d92ec05ecc3159448b08fa8f825dc --- (1000,)\n"
     ]
    },
    {
     "data": {
      "application/vnd.jupyter.widget-view+json": {
       "model_id": "f9b627359d744312b0a9597fb2d46430",
       "version_major": 2,
       "version_minor": 0
      },
      "text/plain": [
       "  0%|          | 0/1000 [00:00<?, ?it/s]"
      ]
     },
     "metadata": {},
     "output_type": "display_data"
    },
    {
     "name": "stderr",
     "output_type": "stream",
     "text": [
      " 60%|█████▉    | 25/42 [5:14:44<3:33:40, 754.16s/it]"
     ]
    },
    {
     "name": "stdout",
     "output_type": "stream",
     "text": [
      "c  25000  до включительно  26000\n",
      "047d92ec05ecc3159448b08fa8f825dc --- 08f7a6425be09df32b0c16f54f35e514 --- (1000,)\n"
     ]
    },
    {
     "data": {
      "application/vnd.jupyter.widget-view+json": {
       "model_id": "893ef8c1dabc4008ac74f80fc4d164da",
       "version_major": 2,
       "version_minor": 0
      },
      "text/plain": [
       "  0%|          | 0/1000 [00:00<?, ?it/s]"
      ]
     },
     "metadata": {},
     "output_type": "display_data"
    },
    {
     "name": "stderr",
     "output_type": "stream",
     "text": [
      " 62%|██████▏   | 26/42 [5:25:28<3:12:15, 720.98s/it]"
     ]
    },
    {
     "name": "stdout",
     "output_type": "stream",
     "text": [
      "c  26000  до включительно  27000\n",
      "08f7a6425be09df32b0c16f54f35e514 --- 5ce23a89c3762422505f816c15e00a21 --- (1000,)\n"
     ]
    },
    {
     "data": {
      "application/vnd.jupyter.widget-view+json": {
       "model_id": "fda3cc8186564a63a5f065054f756440",
       "version_major": 2,
       "version_minor": 0
      },
      "text/plain": [
       "  0%|          | 0/1000 [00:00<?, ?it/s]"
      ]
     },
     "metadata": {},
     "output_type": "display_data"
    },
    {
     "name": "stderr",
     "output_type": "stream",
     "text": [
      " 64%|██████▍   | 27/42 [5:35:31<2:51:21, 685.44s/it]"
     ]
    },
    {
     "name": "stdout",
     "output_type": "stream",
     "text": [
      "c  27000  до включительно  28000\n",
      "5ce23a89c3762422505f816c15e00a21 --- 50bce12156eec1a89b7753060ca41e24 --- (1000,)\n"
     ]
    },
    {
     "data": {
      "application/vnd.jupyter.widget-view+json": {
       "model_id": "8376e1d9ccef4994885d6b2c3c88af16",
       "version_major": 2,
       "version_minor": 0
      },
      "text/plain": [
       "  0%|          | 0/1000 [00:00<?, ?it/s]"
      ]
     },
     "metadata": {},
     "output_type": "display_data"
    },
    {
     "name": "stderr",
     "output_type": "stream",
     "text": [
      " 67%|██████▋   | 28/42 [5:49:13<2:49:31, 726.56s/it]"
     ]
    },
    {
     "name": "stdout",
     "output_type": "stream",
     "text": [
      "c  28000  до включительно  29000\n",
      "50bce12156eec1a89b7753060ca41e24 --- 2035ef3233d051912ee3302018703b4e --- (1000,)\n"
     ]
    },
    {
     "data": {
      "application/vnd.jupyter.widget-view+json": {
       "model_id": "bf1ee5f3c8c64e8fbb19bf1bc2cf5a22",
       "version_major": 2,
       "version_minor": 0
      },
      "text/plain": [
       "  0%|          | 0/1000 [00:00<?, ?it/s]"
      ]
     },
     "metadata": {},
     "output_type": "display_data"
    },
    {
     "name": "stderr",
     "output_type": "stream",
     "text": [
      " 69%|██████▉   | 29/42 [6:01:56<2:39:48, 737.55s/it]"
     ]
    },
    {
     "name": "stdout",
     "output_type": "stream",
     "text": [
      "c  29000  до включительно  30000\n",
      "2035ef3233d051912ee3302018703b4e --- 4bd4b287aa460c726e6f4415f457b6b6 --- (1000,)\n"
     ]
    },
    {
     "data": {
      "application/vnd.jupyter.widget-view+json": {
       "model_id": "4fe8269b515b4408a2a7981e1b06e521",
       "version_major": 2,
       "version_minor": 0
      },
      "text/plain": [
       "  0%|          | 0/1000 [00:00<?, ?it/s]"
      ]
     },
     "metadata": {},
     "output_type": "display_data"
    },
    {
     "name": "stderr",
     "output_type": "stream",
     "text": [
      " 71%|███████▏  | 30/42 [6:17:41<2:39:56, 799.67s/it]"
     ]
    },
    {
     "name": "stdout",
     "output_type": "stream",
     "text": [
      "c  30000  до включительно  31000\n",
      "4bd4b287aa460c726e6f4415f457b6b6 --- 0b09663d776ea02555997cd85886386e --- (1000,)\n"
     ]
    },
    {
     "data": {
      "application/vnd.jupyter.widget-view+json": {
       "model_id": "f942e74b77784cb3adc685f441f13929",
       "version_major": 2,
       "version_minor": 0
      },
      "text/plain": [
       "  0%|          | 0/1000 [00:00<?, ?it/s]"
      ]
     },
     "metadata": {},
     "output_type": "display_data"
    },
    {
     "name": "stderr",
     "output_type": "stream",
     "text": [
      " 74%|███████▍  | 31/42 [6:33:00<2:33:11, 835.63s/it]"
     ]
    },
    {
     "name": "stdout",
     "output_type": "stream",
     "text": [
      "c  31000  до включительно  32000\n",
      "0b09663d776ea02555997cd85886386e --- fa905c32b88636fe40439dea2adcdfde --- (1000,)\n"
     ]
    },
    {
     "data": {
      "application/vnd.jupyter.widget-view+json": {
       "model_id": "b7133539928b4fb19192ed92b091a0d3",
       "version_major": 2,
       "version_minor": 0
      },
      "text/plain": [
       "  0%|          | 0/1000 [00:00<?, ?it/s]"
      ]
     },
     "metadata": {},
     "output_type": "display_data"
    },
    {
     "name": "stderr",
     "output_type": "stream",
     "text": [
      "Exception deserializing message!\n",
      "Traceback (most recent call last):\n",
      "  File \"/opt/conda/lib/python3.7/site-packages/grpc/_common.py\", line 86, in _transform\n",
      "    return transformer(message)\n",
      "  File \"/opt/conda/lib/python3.7/site-packages/proto/message.py\", line 328, in deserialize\n",
      "    return cls.wrap(cls.pb().FromString(payload))\n",
      "google.protobuf.message.DecodeError: Error parsing message\n"
     ]
    },
    {
     "name": "stdout",
     "output_type": "stream",
     "text": [
      "Ошибка в функции syntax2\n"
     ]
    },
    {
     "name": "stderr",
     "output_type": "stream",
     "text": [
      " 76%|███████▌  | 32/42 [6:45:36<2:15:15, 811.55s/it]"
     ]
    },
    {
     "name": "stdout",
     "output_type": "stream",
     "text": [
      "c  32000  до включительно  33000\n",
      "fa905c32b88636fe40439dea2adcdfde --- d37c8293a015c9d934f3d8041d762b3b --- (1000,)\n"
     ]
    },
    {
     "data": {
      "application/vnd.jupyter.widget-view+json": {
       "model_id": "e29789d19e9c4ca9b3222619a37845da",
       "version_major": 2,
       "version_minor": 0
      },
      "text/plain": [
       "  0%|          | 0/1000 [00:00<?, ?it/s]"
      ]
     },
     "metadata": {},
     "output_type": "display_data"
    },
    {
     "name": "stderr",
     "output_type": "stream",
     "text": [
      " 79%|███████▊  | 33/42 [6:58:56<2:01:14, 808.25s/it]"
     ]
    },
    {
     "name": "stdout",
     "output_type": "stream",
     "text": [
      "c  33000  до включительно  34000\n",
      "d37c8293a015c9d934f3d8041d762b3b --- 96efdb572f0b99dea60525854e4a4020 --- (1000,)\n"
     ]
    },
    {
     "data": {
      "application/vnd.jupyter.widget-view+json": {
       "model_id": "34863474ff304d218f851792e8fb1828",
       "version_major": 2,
       "version_minor": 0
      },
      "text/plain": [
       "  0%|          | 0/1000 [00:00<?, ?it/s]"
      ]
     },
     "metadata": {},
     "output_type": "display_data"
    },
    {
     "name": "stderr",
     "output_type": "stream",
     "text": [
      " 81%|████████  | 34/42 [7:13:07<1:49:27, 821.00s/it]"
     ]
    },
    {
     "name": "stdout",
     "output_type": "stream",
     "text": [
      "c  34000  до включительно  35000\n",
      "96efdb572f0b99dea60525854e4a4020 --- 0db8d99a6f8d02c678733d3a36aba687 --- (1000,)\n"
     ]
    },
    {
     "data": {
      "application/vnd.jupyter.widget-view+json": {
       "model_id": "7faa493058f843298f22588e42e8553a",
       "version_major": 2,
       "version_minor": 0
      },
      "text/plain": [
       "  0%|          | 0/1000 [00:00<?, ?it/s]"
      ]
     },
     "metadata": {},
     "output_type": "display_data"
    },
    {
     "name": "stderr",
     "output_type": "stream",
     "text": [
      " 83%|████████▎ | 35/42 [7:24:54<1:31:46, 786.67s/it]"
     ]
    },
    {
     "name": "stdout",
     "output_type": "stream",
     "text": [
      "c  35000  до включительно  36000\n",
      "0db8d99a6f8d02c678733d3a36aba687 --- 5ab7c6d2ec9a59489176e9541a0b02d5 --- (1000,)\n"
     ]
    },
    {
     "data": {
      "application/vnd.jupyter.widget-view+json": {
       "model_id": "cb19d77f4f364559be798825ff521184",
       "version_major": 2,
       "version_minor": 0
      },
      "text/plain": [
       "  0%|          | 0/1000 [00:00<?, ?it/s]"
      ]
     },
     "metadata": {},
     "output_type": "display_data"
    },
    {
     "name": "stderr",
     "output_type": "stream",
     "text": [
      " 86%|████████▌ | 36/42 [7:34:39<1:12:37, 726.25s/it]"
     ]
    },
    {
     "name": "stdout",
     "output_type": "stream",
     "text": [
      "c  36000  до включительно  37000\n",
      "5ab7c6d2ec9a59489176e9541a0b02d5 --- d6286f634b5e96f3aacfb3a1a2798042 --- (1000,)\n"
     ]
    },
    {
     "data": {
      "application/vnd.jupyter.widget-view+json": {
       "model_id": "f57dcbef667d4f05ae5c15098c4a5f5e",
       "version_major": 2,
       "version_minor": 0
      },
      "text/plain": [
       "  0%|          | 0/1000 [00:00<?, ?it/s]"
      ]
     },
     "metadata": {},
     "output_type": "display_data"
    },
    {
     "name": "stderr",
     "output_type": "stream",
     "text": [
      "Exception deserializing message!\n",
      "Traceback (most recent call last):\n",
      "  File \"/opt/conda/lib/python3.7/site-packages/grpc/_common.py\", line 86, in _transform\n",
      "    return transformer(message)\n",
      "  File \"/opt/conda/lib/python3.7/site-packages/proto/message.py\", line 328, in deserialize\n",
      "    return cls.wrap(cls.pb().FromString(payload))\n",
      "google.protobuf.message.DecodeError: Error parsing message\n"
     ]
    },
    {
     "name": "stdout",
     "output_type": "stream",
     "text": [
      "Ошибка в функции syntax2\n"
     ]
    },
    {
     "name": "stderr",
     "output_type": "stream",
     "text": [
      " 88%|████████▊ | 37/42 [7:42:17<53:48, 645.67s/it]  "
     ]
    },
    {
     "name": "stdout",
     "output_type": "stream",
     "text": [
      "c  37000  до включительно  38000\n",
      "d6286f634b5e96f3aacfb3a1a2798042 --- 7ee376b243cd25ee0fe74e6cdc82e885 --- (1000,)\n"
     ]
    },
    {
     "data": {
      "application/vnd.jupyter.widget-view+json": {
       "model_id": "ec4c8ce99a2c480ab50663b485331634",
       "version_major": 2,
       "version_minor": 0
      },
      "text/plain": [
       "  0%|          | 0/1000 [00:00<?, ?it/s]"
      ]
     },
     "metadata": {},
     "output_type": "display_data"
    },
    {
     "name": "stdout",
     "output_type": "stream",
     "text": [
      "Ошибка в функции entities\n",
      "Ошибка в функции syntax2\n"
     ]
    },
    {
     "name": "stderr",
     "output_type": "stream",
     "text": [
      " 90%|█████████ | 38/42 [7:50:24<39:52, 598.06s/it]"
     ]
    },
    {
     "name": "stdout",
     "output_type": "stream",
     "text": [
      "c  38000  до включительно  39000\n",
      "7ee376b243cd25ee0fe74e6cdc82e885 --- 71a2d608e4913b1bc2db0faf607babe8 --- (1000,)\n"
     ]
    },
    {
     "data": {
      "application/vnd.jupyter.widget-view+json": {
       "model_id": "6fe192123e274602838601f59b880052",
       "version_major": 2,
       "version_minor": 0
      },
      "text/plain": [
       "  0%|          | 0/1000 [00:00<?, ?it/s]"
      ]
     },
     "metadata": {},
     "output_type": "display_data"
    },
    {
     "name": "stderr",
     "output_type": "stream",
     "text": [
      " 93%|█████████▎| 39/42 [8:01:43<31:07, 622.53s/it]"
     ]
    },
    {
     "name": "stdout",
     "output_type": "stream",
     "text": [
      "c  39000  до включительно  40000\n",
      "71a2d608e4913b1bc2db0faf607babe8 --- 077552fa6735453d1901e22c4473e059 --- (1000,)\n"
     ]
    },
    {
     "data": {
      "application/vnd.jupyter.widget-view+json": {
       "model_id": "22823c032cfb4720b1b28caac87384ea",
       "version_major": 2,
       "version_minor": 0
      },
      "text/plain": [
       "  0%|          | 0/1000 [00:00<?, ?it/s]"
      ]
     },
     "metadata": {},
     "output_type": "display_data"
    },
    {
     "name": "stderr",
     "output_type": "stream",
     "text": [
      " 95%|█████████▌| 40/42 [8:13:19<21:28, 644.46s/it]"
     ]
    },
    {
     "name": "stdout",
     "output_type": "stream",
     "text": [
      "c  40000  до включительно  41000\n",
      "077552fa6735453d1901e22c4473e059 --- 8ef30b486d408a19f5fea3e6dac8cc97 --- (1000,)\n"
     ]
    },
    {
     "data": {
      "application/vnd.jupyter.widget-view+json": {
       "model_id": "e6ce27f46fd64696bee6f1c6e7fc2528",
       "version_major": 2,
       "version_minor": 0
      },
      "text/plain": [
       "  0%|          | 0/1000 [00:00<?, ?it/s]"
      ]
     },
     "metadata": {},
     "output_type": "display_data"
    },
    {
     "name": "stderr",
     "output_type": "stream",
     "text": [
      " 98%|█████████▊| 41/42 [8:21:09<09:52, 592.09s/it]"
     ]
    },
    {
     "name": "stdout",
     "output_type": "stream",
     "text": [
      "c  41000  до включительно  42000\n",
      "8ef30b486d408a19f5fea3e6dac8cc97 --- 6452911fae3dad5d7dd8553ac35248e2 --- (1000,)\n"
     ]
    },
    {
     "data": {
      "application/vnd.jupyter.widget-view+json": {
       "model_id": "8231e405ee1c4939a39436240d11d5c7",
       "version_major": 2,
       "version_minor": 0
      },
      "text/plain": [
       "  0%|          | 0/1000 [00:00<?, ?it/s]"
      ]
     },
     "metadata": {},
     "output_type": "display_data"
    },
    {
     "name": "stderr",
     "output_type": "stream",
     "text": [
      "100%|██████████| 42/42 [8:31:14<00:00, 730.34s/it]\n"
     ]
    }
   ],
   "source": [
    "#for i in tqdm(range(1,43)):\n",
    "df['tmp']=np.nan\n",
    "for i in tqdm(range(1,43)):    \n",
    "    print('c ',(i-1)*1000, ' до включительно ',i*1000)\n",
    "    print(df['review_id'][(i-1)*1000],'---',df['review_id'][i*1000],'---',df['review_id'][(i-1)*1000:i*1000].shape)\n",
    "    df['tmp'][(i-1)*1000:i*1000] = df['C'][(i-1)*1000:i*1000].progress_apply(get_text_for_nlp)\n",
    "    df5=df[['review_id','order_id','tmp']]\n",
    "    filename1='tmp'+str(i)+'.csv'\n",
    "    df5[(i-1)*1000:i*1000].to_csv(os.path.join(PATH, filename1), sep=';', header=True, index=False)"
   ]
  },
  {
   "cell_type": "code",
   "execution_count": 56,
   "metadata": {},
   "outputs": [
    {
     "name": "stderr",
     "output_type": "stream",
     "text": [
      "  0%|          | 0/57 [00:00<?, ?it/s]"
     ]
    },
    {
     "name": "stdout",
     "output_type": "stream",
     "text": [
      "c  42000  до включительно  43000\n",
      "6452911fae3dad5d7dd8553ac35248e2 --- 126dba0769720a05295360be53b92669 --- (1000,)\n"
     ]
    },
    {
     "data": {
      "application/vnd.jupyter.widget-view+json": {
       "model_id": "0ce56052ec6f4617b9b41be9d62ba076",
       "version_major": 2,
       "version_minor": 0
      },
      "text/plain": [
       "  0%|          | 0/1000 [00:00<?, ?it/s]"
      ]
     },
     "metadata": {},
     "output_type": "display_data"
    },
    {
     "name": "stderr",
     "output_type": "stream",
     "text": [
      "/opt/conda/lib/python3.7/site-packages/ipykernel_launcher.py:4: SettingWithCopyWarning: \n",
      "A value is trying to be set on a copy of a slice from a DataFrame\n",
      "\n",
      "See the caveats in the documentation: https://pandas.pydata.org/pandas-docs/stable/user_guide/indexing.html#returning-a-view-versus-a-copy\n",
      "  after removing the cwd from sys.path.\n",
      "  2%|▏         | 1/57 [15:59<14:55:52, 959.86s/it]"
     ]
    },
    {
     "name": "stdout",
     "output_type": "stream",
     "text": [
      "c  43000  до включительно  44000\n",
      "126dba0769720a05295360be53b92669 --- a40a0e99764674bc313061cec03c801c --- (1000,)\n"
     ]
    },
    {
     "data": {
      "application/vnd.jupyter.widget-view+json": {
       "model_id": "44ddd2237b184346960ffc5bc5dcfad3",
       "version_major": 2,
       "version_minor": 0
      },
      "text/plain": [
       "  0%|          | 0/1000 [00:00<?, ?it/s]"
      ]
     },
     "metadata": {},
     "output_type": "display_data"
    },
    {
     "name": "stderr",
     "output_type": "stream",
     "text": [
      "  4%|▎         | 2/57 [25:49<11:20:24, 742.27s/it]"
     ]
    },
    {
     "name": "stdout",
     "output_type": "stream",
     "text": [
      "c  44000  до включительно  45000\n",
      "a40a0e99764674bc313061cec03c801c --- a9a7edc83a9a099b8de9f1f67908888d --- (1000,)\n"
     ]
    },
    {
     "data": {
      "application/vnd.jupyter.widget-view+json": {
       "model_id": "97a8f63afb244cc18913b76bc60e4ef0",
       "version_major": 2,
       "version_minor": 0
      },
      "text/plain": [
       "  0%|          | 0/1000 [00:00<?, ?it/s]"
      ]
     },
     "metadata": {},
     "output_type": "display_data"
    },
    {
     "name": "stderr",
     "output_type": "stream",
     "text": [
      "  5%|▌         | 3/57 [39:36<11:42:42, 780.79s/it]"
     ]
    },
    {
     "name": "stdout",
     "output_type": "stream",
     "text": [
      "c  45000  до включительно  46000\n",
      "a9a7edc83a9a099b8de9f1f67908888d --- 8d2ffd60151b4fdc94ae54758f73f25c --- (1000,)\n"
     ]
    },
    {
     "data": {
      "application/vnd.jupyter.widget-view+json": {
       "model_id": "a44f40f008684a7ba0ef169787df2730",
       "version_major": 2,
       "version_minor": 0
      },
      "text/plain": [
       "  0%|          | 0/1000 [00:00<?, ?it/s]"
      ]
     },
     "metadata": {},
     "output_type": "display_data"
    },
    {
     "name": "stderr",
     "output_type": "stream",
     "text": [
      "  7%|▋         | 4/57 [49:21<10:21:19, 703.39s/it]"
     ]
    },
    {
     "name": "stdout",
     "output_type": "stream",
     "text": [
      "c  46000  до включительно  47000\n",
      "8d2ffd60151b4fdc94ae54758f73f25c --- d1e15aa45c4be843cc79d9097262e04c --- (1000,)\n"
     ]
    },
    {
     "data": {
      "application/vnd.jupyter.widget-view+json": {
       "model_id": "fd9ebcc5a8744b0eaac526155ce0a5ff",
       "version_major": 2,
       "version_minor": 0
      },
      "text/plain": [
       "  0%|          | 0/1000 [00:00<?, ?it/s]"
      ]
     },
     "metadata": {},
     "output_type": "display_data"
    },
    {
     "name": "stderr",
     "output_type": "stream",
     "text": [
      "Exception deserializing message!\n",
      "Traceback (most recent call last):\n",
      "  File \"/opt/conda/lib/python3.7/site-packages/grpc/_common.py\", line 86, in _transform\n",
      "    return transformer(message)\n",
      "  File \"/opt/conda/lib/python3.7/site-packages/proto/message.py\", line 328, in deserialize\n",
      "    return cls.wrap(cls.pb().FromString(payload))\n",
      "google.protobuf.message.DecodeError: Error parsing message\n"
     ]
    },
    {
     "name": "stdout",
     "output_type": "stream",
     "text": [
      "Ошибка в функции syntax2\n"
     ]
    },
    {
     "name": "stderr",
     "output_type": "stream",
     "text": [
      "  9%|▉         | 5/57 [1:00:07<9:51:47, 682.84s/it]"
     ]
    },
    {
     "name": "stdout",
     "output_type": "stream",
     "text": [
      "c  47000  до включительно  48000\n",
      "d1e15aa45c4be843cc79d9097262e04c --- 223666a37095bd75cf4b2ce21303011f --- (1000,)\n"
     ]
    },
    {
     "data": {
      "application/vnd.jupyter.widget-view+json": {
       "model_id": "5b9ca34d5286486c9005f18ee20be482",
       "version_major": 2,
       "version_minor": 0
      },
      "text/plain": [
       "  0%|          | 0/1000 [00:00<?, ?it/s]"
      ]
     },
     "metadata": {},
     "output_type": "display_data"
    },
    {
     "name": "stderr",
     "output_type": "stream",
     "text": [
      " 11%|█         | 6/57 [1:09:26<9:04:28, 640.56s/it]"
     ]
    },
    {
     "name": "stdout",
     "output_type": "stream",
     "text": [
      "c  48000  до включительно  49000\n",
      "223666a37095bd75cf4b2ce21303011f --- be26502a2b48a81812a584381c6e51e8 --- (1000,)\n"
     ]
    },
    {
     "data": {
      "application/vnd.jupyter.widget-view+json": {
       "model_id": "b4e7c9f3cbc14458b46729e3322bc57c",
       "version_major": 2,
       "version_minor": 0
      },
      "text/plain": [
       "  0%|          | 0/1000 [00:00<?, ?it/s]"
      ]
     },
     "metadata": {},
     "output_type": "display_data"
    },
    {
     "name": "stderr",
     "output_type": "stream",
     "text": [
      " 12%|█▏        | 7/57 [1:20:26<8:59:05, 646.91s/it]"
     ]
    },
    {
     "name": "stdout",
     "output_type": "stream",
     "text": [
      "c  49000  до включительно  50000\n",
      "be26502a2b48a81812a584381c6e51e8 --- 58704117f9b21ae5ceb6739e86ba9750 --- (1000,)\n"
     ]
    },
    {
     "data": {
      "application/vnd.jupyter.widget-view+json": {
       "model_id": "4679b622834642b58f289e03edfc7f08",
       "version_major": 2,
       "version_minor": 0
      },
      "text/plain": [
       "  0%|          | 0/1000 [00:00<?, ?it/s]"
      ]
     },
     "metadata": {},
     "output_type": "display_data"
    },
    {
     "name": "stderr",
     "output_type": "stream",
     "text": [
      " 14%|█▍        | 8/57 [1:33:11<9:19:09, 684.69s/it]"
     ]
    },
    {
     "name": "stdout",
     "output_type": "stream",
     "text": [
      "c  50000  до включительно  51000\n",
      "58704117f9b21ae5ceb6739e86ba9750 --- 412b49907711664d22512049ea90d9a4 --- (1000,)\n"
     ]
    },
    {
     "data": {
      "application/vnd.jupyter.widget-view+json": {
       "model_id": "eed2baa8336f40e48f4a3a76fddaa95f",
       "version_major": 2,
       "version_minor": 0
      },
      "text/plain": [
       "  0%|          | 0/1000 [00:00<?, ?it/s]"
      ]
     },
     "metadata": {},
     "output_type": "display_data"
    },
    {
     "name": "stderr",
     "output_type": "stream",
     "text": [
      "Exception deserializing message!\n",
      "Traceback (most recent call last):\n",
      "  File \"/opt/conda/lib/python3.7/site-packages/grpc/_common.py\", line 86, in _transform\n",
      "    return transformer(message)\n",
      "  File \"/opt/conda/lib/python3.7/site-packages/proto/message.py\", line 328, in deserialize\n",
      "    return cls.wrap(cls.pb().FromString(payload))\n",
      "google.protobuf.message.DecodeError: Error parsing message\n"
     ]
    },
    {
     "name": "stdout",
     "output_type": "stream",
     "text": [
      "Ошибка в функции syntax2\n"
     ]
    },
    {
     "name": "stderr",
     "output_type": "stream",
     "text": [
      " 16%|█▌        | 9/57 [1:47:04<9:44:42, 730.88s/it]"
     ]
    },
    {
     "name": "stdout",
     "output_type": "stream",
     "text": [
      "c  51000  до включительно  52000\n",
      "412b49907711664d22512049ea90d9a4 --- d9670dbbf2dfbe51b7f90478f6389901 --- (1000,)\n"
     ]
    },
    {
     "data": {
      "application/vnd.jupyter.widget-view+json": {
       "model_id": "1cc3d747a8df4a409846ee57e8f35f1c",
       "version_major": 2,
       "version_minor": 0
      },
      "text/plain": [
       "  0%|          | 0/1000 [00:00<?, ?it/s]"
      ]
     },
     "metadata": {},
     "output_type": "display_data"
    },
    {
     "name": "stderr",
     "output_type": "stream",
     "text": [
      " 18%|█▊        | 10/57 [1:57:33<9:07:57, 699.52s/it]"
     ]
    },
    {
     "name": "stdout",
     "output_type": "stream",
     "text": [
      "c  52000  до включительно  53000\n",
      "d9670dbbf2dfbe51b7f90478f6389901 --- 0307298eeda38dc2f61c9cb08f908b44 --- (1000,)\n"
     ]
    },
    {
     "data": {
      "application/vnd.jupyter.widget-view+json": {
       "model_id": "d71eb14bdbe74ab4994a07c098b8480e",
       "version_major": 2,
       "version_minor": 0
      },
      "text/plain": [
       "  0%|          | 0/1000 [00:00<?, ?it/s]"
      ]
     },
     "metadata": {},
     "output_type": "display_data"
    },
    {
     "name": "stderr",
     "output_type": "stream",
     "text": [
      " 19%|█▉        | 11/57 [2:07:15<8:28:46, 663.61s/it]"
     ]
    },
    {
     "name": "stdout",
     "output_type": "stream",
     "text": [
      "c  53000  до включительно  54000\n",
      "0307298eeda38dc2f61c9cb08f908b44 --- 7a7847428b11ee181ca4a9f12b80cd0b --- (1000,)\n"
     ]
    },
    {
     "data": {
      "application/vnd.jupyter.widget-view+json": {
       "model_id": "72d0d6bf077a46d3a1fcde227a8cb640",
       "version_major": 2,
       "version_minor": 0
      },
      "text/plain": [
       "  0%|          | 0/1000 [00:00<?, ?it/s]"
      ]
     },
     "metadata": {},
     "output_type": "display_data"
    },
    {
     "name": "stderr",
     "output_type": "stream",
     "text": [
      " 21%|██        | 12/57 [2:19:03<8:27:55, 677.23s/it]"
     ]
    },
    {
     "name": "stdout",
     "output_type": "stream",
     "text": [
      "c  54000  до включительно  55000\n",
      "7a7847428b11ee181ca4a9f12b80cd0b --- 77f9c52c94fb7e6d5aaa5d9fa74455be --- (1000,)\n"
     ]
    },
    {
     "data": {
      "application/vnd.jupyter.widget-view+json": {
       "model_id": "a4578eaa7d894ed0ac5135b6f77c2e09",
       "version_major": 2,
       "version_minor": 0
      },
      "text/plain": [
       "  0%|          | 0/1000 [00:00<?, ?it/s]"
      ]
     },
     "metadata": {},
     "output_type": "display_data"
    },
    {
     "name": "stderr",
     "output_type": "stream",
     "text": [
      " 23%|██▎       | 13/57 [2:29:45<8:08:41, 666.40s/it]"
     ]
    },
    {
     "name": "stdout",
     "output_type": "stream",
     "text": [
      "c  55000  до включительно  56000\n",
      "77f9c52c94fb7e6d5aaa5d9fa74455be --- 34aea04d21273140bbf1c33fbab0862b --- (1000,)\n"
     ]
    },
    {
     "data": {
      "application/vnd.jupyter.widget-view+json": {
       "model_id": "36c5a56cb8e0419eae6e741488b8da5d",
       "version_major": 2,
       "version_minor": 0
      },
      "text/plain": [
       "  0%|          | 0/1000 [00:00<?, ?it/s]"
      ]
     },
     "metadata": {},
     "output_type": "display_data"
    },
    {
     "name": "stderr",
     "output_type": "stream",
     "text": [
      " 25%|██▍       | 14/57 [2:41:54<8:11:04, 685.22s/it]"
     ]
    },
    {
     "name": "stdout",
     "output_type": "stream",
     "text": [
      "c  56000  до включительно  57000\n",
      "34aea04d21273140bbf1c33fbab0862b --- 01ac77c414aca7a1765916e0b73e9e2b --- (1000,)\n"
     ]
    },
    {
     "data": {
      "application/vnd.jupyter.widget-view+json": {
       "model_id": "f02509fc533b48979a25aaa663370ff0",
       "version_major": 2,
       "version_minor": 0
      },
      "text/plain": [
       "  0%|          | 0/1000 [00:00<?, ?it/s]"
      ]
     },
     "metadata": {},
     "output_type": "display_data"
    },
    {
     "name": "stderr",
     "output_type": "stream",
     "text": [
      " 26%|██▋       | 15/57 [2:54:56<8:20:05, 714.41s/it]"
     ]
    },
    {
     "name": "stdout",
     "output_type": "stream",
     "text": [
      "c  57000  до включительно  58000\n",
      "01ac77c414aca7a1765916e0b73e9e2b --- d31a628d3d3a7d50c61770fc3f5f23d8 --- (1000,)\n"
     ]
    },
    {
     "data": {
      "application/vnd.jupyter.widget-view+json": {
       "model_id": "cd66b44c621d4d39b588308f6d943711",
       "version_major": 2,
       "version_minor": 0
      },
      "text/plain": [
       "  0%|          | 0/1000 [00:00<?, ?it/s]"
      ]
     },
     "metadata": {},
     "output_type": "display_data"
    },
    {
     "name": "stderr",
     "output_type": "stream",
     "text": [
      " 28%|██▊       | 16/57 [3:07:12<8:12:42, 721.04s/it]"
     ]
    },
    {
     "name": "stdout",
     "output_type": "stream",
     "text": [
      "c  58000  до включительно  59000\n",
      "d31a628d3d3a7d50c61770fc3f5f23d8 --- 9f9c7b4d229573a2771758c6d36ff5d3 --- (1000,)\n"
     ]
    },
    {
     "data": {
      "application/vnd.jupyter.widget-view+json": {
       "model_id": "f07783760ac64ac28d6458376d0d71dc",
       "version_major": 2,
       "version_minor": 0
      },
      "text/plain": [
       "  0%|          | 0/1000 [00:00<?, ?it/s]"
      ]
     },
     "metadata": {},
     "output_type": "display_data"
    },
    {
     "name": "stdout",
     "output_type": "stream",
     "text": [
      "Ошибка в функции sentiment\n",
      "Ошибка в функции entities\n",
      "Ошибка в функции syntax2\n"
     ]
    },
    {
     "name": "stderr",
     "output_type": "stream",
     "text": [
      " 30%|██▉       | 17/57 [3:15:45<7:18:59, 658.49s/it]"
     ]
    },
    {
     "name": "stdout",
     "output_type": "stream",
     "text": [
      "c  59000  до включительно  60000\n",
      "9f9c7b4d229573a2771758c6d36ff5d3 --- 21bba1eb02ed3ae34917a07544eec113 --- (1000,)\n"
     ]
    },
    {
     "data": {
      "application/vnd.jupyter.widget-view+json": {
       "model_id": "9a3c3d9e246a4338a9fa7bbf129d1f88",
       "version_major": 2,
       "version_minor": 0
      },
      "text/plain": [
       "  0%|          | 0/1000 [00:00<?, ?it/s]"
      ]
     },
     "metadata": {},
     "output_type": "display_data"
    },
    {
     "name": "stderr",
     "output_type": "stream",
     "text": [
      " 32%|███▏      | 18/57 [3:28:56<7:33:53, 698.28s/it]"
     ]
    },
    {
     "name": "stdout",
     "output_type": "stream",
     "text": [
      "c  60000  до включительно  61000\n",
      "21bba1eb02ed3ae34917a07544eec113 --- 5845cb7b6b04b4a27a9058ff3580cdfb --- (1000,)\n"
     ]
    },
    {
     "data": {
      "application/vnd.jupyter.widget-view+json": {
       "model_id": "cc1be158fdf0408da1fb409a333a533c",
       "version_major": 2,
       "version_minor": 0
      },
      "text/plain": [
       "  0%|          | 0/1000 [00:00<?, ?it/s]"
      ]
     },
     "metadata": {},
     "output_type": "display_data"
    },
    {
     "name": "stderr",
     "output_type": "stream",
     "text": [
      "Exception deserializing message!\n",
      "Traceback (most recent call last):\n",
      "  File \"/opt/conda/lib/python3.7/site-packages/grpc/_common.py\", line 86, in _transform\n",
      "    return transformer(message)\n",
      "  File \"/opt/conda/lib/python3.7/site-packages/proto/message.py\", line 328, in deserialize\n",
      "    return cls.wrap(cls.pb().FromString(payload))\n",
      "google.protobuf.message.DecodeError: Error parsing message\n"
     ]
    },
    {
     "name": "stdout",
     "output_type": "stream",
     "text": [
      "Ошибка в функции entities\n"
     ]
    },
    {
     "name": "stderr",
     "output_type": "stream",
     "text": [
      "Exception deserializing message!\n",
      "Traceback (most recent call last):\n",
      "  File \"/opt/conda/lib/python3.7/site-packages/grpc/_common.py\", line 86, in _transform\n",
      "    return transformer(message)\n",
      "  File \"/opt/conda/lib/python3.7/site-packages/proto/message.py\", line 328, in deserialize\n",
      "    return cls.wrap(cls.pb().FromString(payload))\n",
      "google.protobuf.message.DecodeError: Error parsing message\n"
     ]
    },
    {
     "name": "stdout",
     "output_type": "stream",
     "text": [
      "Ошибка в функции syntax2\n"
     ]
    },
    {
     "name": "stderr",
     "output_type": "stream",
     "text": [
      " 33%|███▎      | 19/57 [3:43:10<7:51:48, 744.95s/it]"
     ]
    },
    {
     "name": "stdout",
     "output_type": "stream",
     "text": [
      "c  61000  до включительно  62000\n",
      "5845cb7b6b04b4a27a9058ff3580cdfb --- 95d75b7a8058538cb942cf2d3ab0aacb --- (1000,)\n"
     ]
    },
    {
     "data": {
      "application/vnd.jupyter.widget-view+json": {
       "model_id": "9ad553f4d90b494e8e1c096905244bca",
       "version_major": 2,
       "version_minor": 0
      },
      "text/plain": [
       "  0%|          | 0/1000 [00:00<?, ?it/s]"
      ]
     },
     "metadata": {},
     "output_type": "display_data"
    },
    {
     "name": "stdout",
     "output_type": "stream",
     "text": [
      "Ошибка в функции entities\n",
      "Ошибка в функции syntax2\n"
     ]
    },
    {
     "name": "stderr",
     "output_type": "stream",
     "text": [
      " 35%|███▌      | 20/57 [3:53:39<7:17:56, 710.18s/it]"
     ]
    },
    {
     "name": "stdout",
     "output_type": "stream",
     "text": [
      "c  62000  до включительно  63000\n",
      "95d75b7a8058538cb942cf2d3ab0aacb --- d37603e00a7190d93f6b0fb1dec1334f --- (1000,)\n"
     ]
    },
    {
     "data": {
      "application/vnd.jupyter.widget-view+json": {
       "model_id": "3fabdde7500648faa3789fe8559613bb",
       "version_major": 2,
       "version_minor": 0
      },
      "text/plain": [
       "  0%|          | 0/1000 [00:00<?, ?it/s]"
      ]
     },
     "metadata": {},
     "output_type": "display_data"
    },
    {
     "name": "stdout",
     "output_type": "stream",
     "text": [
      "Ошибка в функции entities\n",
      "Ошибка в функции syntax2\n"
     ]
    },
    {
     "name": "stderr",
     "output_type": "stream",
     "text": [
      " 37%|███▋      | 21/57 [4:04:58<7:00:30, 700.84s/it]"
     ]
    },
    {
     "name": "stdout",
     "output_type": "stream",
     "text": [
      "c  63000  до включительно  64000\n",
      "d37603e00a7190d93f6b0fb1dec1334f --- 6ad14f3b9a7f6b6caa1a4d19bc1f860f --- (1000,)\n"
     ]
    },
    {
     "data": {
      "application/vnd.jupyter.widget-view+json": {
       "model_id": "777d553e7a4e4008863553b9cef6dac6",
       "version_major": 2,
       "version_minor": 0
      },
      "text/plain": [
       "  0%|          | 0/1000 [00:00<?, ?it/s]"
      ]
     },
     "metadata": {},
     "output_type": "display_data"
    },
    {
     "name": "stderr",
     "output_type": "stream",
     "text": [
      " 39%|███▊      | 22/57 [4:16:13<6:44:16, 693.04s/it]"
     ]
    },
    {
     "name": "stdout",
     "output_type": "stream",
     "text": [
      "c  64000  до включительно  65000\n",
      "6ad14f3b9a7f6b6caa1a4d19bc1f860f --- 11f918b0ff6ed9492637134b7dbdc9a6 --- (1000,)\n"
     ]
    },
    {
     "data": {
      "application/vnd.jupyter.widget-view+json": {
       "model_id": "e1cd65e3fcd74fcba2ec71750f474282",
       "version_major": 2,
       "version_minor": 0
      },
      "text/plain": [
       "  0%|          | 0/1000 [00:00<?, ?it/s]"
      ]
     },
     "metadata": {},
     "output_type": "display_data"
    },
    {
     "name": "stderr",
     "output_type": "stream",
     "text": [
      " 40%|████      | 23/57 [4:24:30<5:59:21, 634.16s/it]"
     ]
    },
    {
     "name": "stdout",
     "output_type": "stream",
     "text": [
      "c  65000  до включительно  66000\n",
      "11f918b0ff6ed9492637134b7dbdc9a6 --- ac15b09dc5b0a14043f21eca5c4ff288 --- (1000,)\n"
     ]
    },
    {
     "data": {
      "application/vnd.jupyter.widget-view+json": {
       "model_id": "d0a995720da849258522f55f4db25056",
       "version_major": 2,
       "version_minor": 0
      },
      "text/plain": [
       "  0%|          | 0/1000 [00:00<?, ?it/s]"
      ]
     },
     "metadata": {},
     "output_type": "display_data"
    },
    {
     "name": "stdout",
     "output_type": "stream",
     "text": [
      "Ошибка в функции entities\n",
      "Ошибка в функции syntax2\n"
     ]
    },
    {
     "name": "stderr",
     "output_type": "stream",
     "text": [
      " 42%|████▏     | 24/57 [4:37:08<6:09:14, 671.34s/it]"
     ]
    },
    {
     "name": "stdout",
     "output_type": "stream",
     "text": [
      "c  66000  до включительно  67000\n",
      "ac15b09dc5b0a14043f21eca5c4ff288 --- d0afdeb9d2879b035589d6d7834581d3 --- (1000,)\n"
     ]
    },
    {
     "data": {
      "application/vnd.jupyter.widget-view+json": {
       "model_id": "ea0d8e3b084d476a96d3b89957ef1193",
       "version_major": 2,
       "version_minor": 0
      },
      "text/plain": [
       "  0%|          | 0/1000 [00:00<?, ?it/s]"
      ]
     },
     "metadata": {},
     "output_type": "display_data"
    },
    {
     "name": "stderr",
     "output_type": "stream",
     "text": [
      " 44%|████▍     | 25/57 [4:44:13<5:18:38, 597.46s/it]"
     ]
    },
    {
     "name": "stdout",
     "output_type": "stream",
     "text": [
      "c  67000  до включительно  68000\n",
      "d0afdeb9d2879b035589d6d7834581d3 --- 1da1cec3ab20baa1b0590701d07d7126 --- (1000,)\n"
     ]
    },
    {
     "data": {
      "application/vnd.jupyter.widget-view+json": {
       "model_id": "3cb32947a0da4156ac13ab65c75d8323",
       "version_major": 2,
       "version_minor": 0
      },
      "text/plain": [
       "  0%|          | 0/1000 [00:00<?, ?it/s]"
      ]
     },
     "metadata": {},
     "output_type": "display_data"
    },
    {
     "name": "stdout",
     "output_type": "stream",
     "text": [
      "Ошибка в функции entities\n",
      "Ошибка в функции syntax2\n",
      "Ошибка в функции entities\n",
      "Ошибка в функции syntax2\n"
     ]
    },
    {
     "name": "stderr",
     "output_type": "stream",
     "text": [
      " 46%|████▌     | 26/57 [4:57:10<5:36:37, 651.53s/it]"
     ]
    },
    {
     "name": "stdout",
     "output_type": "stream",
     "text": [
      "c  68000  до включительно  69000\n",
      "1da1cec3ab20baa1b0590701d07d7126 --- 3fe9cb55aeeec92d0ef2830237fa95d1 --- (1000,)\n"
     ]
    },
    {
     "data": {
      "application/vnd.jupyter.widget-view+json": {
       "model_id": "43a70b3272aa470ba3dbb3e2a9e02e84",
       "version_major": 2,
       "version_minor": 0
      },
      "text/plain": [
       "  0%|          | 0/1000 [00:00<?, ?it/s]"
      ]
     },
     "metadata": {},
     "output_type": "display_data"
    },
    {
     "name": "stdout",
     "output_type": "stream",
     "text": [
      "Ошибка в функции sentiment\n",
      "Ошибка в функции entities\n",
      "Ошибка в функции syntax2\n"
     ]
    },
    {
     "name": "stderr",
     "output_type": "stream",
     "text": [
      " 47%|████▋     | 27/57 [5:06:37<5:13:04, 626.13s/it]"
     ]
    },
    {
     "name": "stdout",
     "output_type": "stream",
     "text": [
      "c  69000  до включительно  70000\n",
      "3fe9cb55aeeec92d0ef2830237fa95d1 --- 49fe5d39eeb85610d86d792492939eac --- (1000,)\n"
     ]
    },
    {
     "data": {
      "application/vnd.jupyter.widget-view+json": {
       "model_id": "37f8643a683844219ebf04564c6d347e",
       "version_major": 2,
       "version_minor": 0
      },
      "text/plain": [
       "  0%|          | 0/1000 [00:00<?, ?it/s]"
      ]
     },
     "metadata": {},
     "output_type": "display_data"
    },
    {
     "name": "stderr",
     "output_type": "stream",
     "text": [
      " 49%|████▉     | 28/57 [5:13:42<4:33:28, 565.81s/it]"
     ]
    },
    {
     "name": "stdout",
     "output_type": "stream",
     "text": [
      "c  70000  до включительно  71000\n",
      "49fe5d39eeb85610d86d792492939eac --- 3af0a3435f509605dc8b25410070fbfa --- (1000,)\n"
     ]
    },
    {
     "data": {
      "application/vnd.jupyter.widget-view+json": {
       "model_id": "86d60c6edbaa4579b1b1a9138231a736",
       "version_major": 2,
       "version_minor": 0
      },
      "text/plain": [
       "  0%|          | 0/1000 [00:00<?, ?it/s]"
      ]
     },
     "metadata": {},
     "output_type": "display_data"
    },
    {
     "name": "stderr",
     "output_type": "stream",
     "text": [
      " 51%|█████     | 29/57 [5:25:06<4:40:34, 601.24s/it]"
     ]
    },
    {
     "name": "stdout",
     "output_type": "stream",
     "text": [
      "c  71000  до включительно  72000\n",
      "3af0a3435f509605dc8b25410070fbfa --- 22d8e158f1d39ed28cf83c3fc45b6014 --- (1000,)\n"
     ]
    },
    {
     "data": {
      "application/vnd.jupyter.widget-view+json": {
       "model_id": "0f57a8ff7bba4984b9b65c89f7b785ee",
       "version_major": 2,
       "version_minor": 0
      },
      "text/plain": [
       "  0%|          | 0/1000 [00:00<?, ?it/s]"
      ]
     },
     "metadata": {},
     "output_type": "display_data"
    },
    {
     "name": "stdout",
     "output_type": "stream",
     "text": [
      "Ошибка в функции entities\n",
      "Ошибка в функции syntax2\n"
     ]
    },
    {
     "name": "stderr",
     "output_type": "stream",
     "text": [
      " 53%|█████▎    | 30/57 [5:33:00<4:13:23, 563.09s/it]"
     ]
    },
    {
     "name": "stdout",
     "output_type": "stream",
     "text": [
      "c  72000  до включительно  73000\n",
      "22d8e158f1d39ed28cf83c3fc45b6014 --- 8d56a8ad31a3df980cc55dc3b1bf856a --- (1000,)\n"
     ]
    },
    {
     "data": {
      "application/vnd.jupyter.widget-view+json": {
       "model_id": "8f312058023c42039cf86a5c0864994d",
       "version_major": 2,
       "version_minor": 0
      },
      "text/plain": [
       "  0%|          | 0/1000 [00:00<?, ?it/s]"
      ]
     },
     "metadata": {},
     "output_type": "display_data"
    },
    {
     "name": "stdout",
     "output_type": "stream",
     "text": [
      "Ошибка в функции entities\n",
      "Ошибка в функции syntax2\n"
     ]
    },
    {
     "name": "stderr",
     "output_type": "stream",
     "text": [
      " 54%|█████▍    | 31/57 [5:46:10<4:33:29, 631.14s/it]"
     ]
    },
    {
     "name": "stdout",
     "output_type": "stream",
     "text": [
      "c  73000  до включительно  74000\n",
      "8d56a8ad31a3df980cc55dc3b1bf856a --- 508608dd8161d9a03df806f84ed01be6 --- (1000,)\n"
     ]
    },
    {
     "data": {
      "application/vnd.jupyter.widget-view+json": {
       "model_id": "45aa9b1320ea42fca7d44d6e84f81f4c",
       "version_major": 2,
       "version_minor": 0
      },
      "text/plain": [
       "  0%|          | 0/1000 [00:00<?, ?it/s]"
      ]
     },
     "metadata": {},
     "output_type": "display_data"
    },
    {
     "name": "stdout",
     "output_type": "stream",
     "text": [
      "Ошибка в функции entities\n",
      "Ошибка в функции syntax2\n"
     ]
    },
    {
     "name": "stderr",
     "output_type": "stream",
     "text": [
      " 56%|█████▌    | 32/57 [6:01:48<5:01:15, 723.02s/it]"
     ]
    },
    {
     "name": "stdout",
     "output_type": "stream",
     "text": [
      "c  74000  до включительно  75000\n",
      "508608dd8161d9a03df806f84ed01be6 --- 78f2148aa1875aa08ba678b1f32d9b19 --- (1000,)\n"
     ]
    },
    {
     "data": {
      "application/vnd.jupyter.widget-view+json": {
       "model_id": "985507597f804831b6eff26a9e8c13d3",
       "version_major": 2,
       "version_minor": 0
      },
      "text/plain": [
       "  0%|          | 0/1000 [00:00<?, ?it/s]"
      ]
     },
     "metadata": {},
     "output_type": "display_data"
    },
    {
     "name": "stderr",
     "output_type": "stream",
     "text": [
      " 58%|█████▊    | 33/57 [6:16:53<5:11:02, 777.61s/it]"
     ]
    },
    {
     "name": "stdout",
     "output_type": "stream",
     "text": [
      "c  75000  до включительно  76000\n",
      "78f2148aa1875aa08ba678b1f32d9b19 --- 40a109a79f8b23bad7ff9f4915361339 --- (1000,)\n"
     ]
    },
    {
     "data": {
      "application/vnd.jupyter.widget-view+json": {
       "model_id": "967622017308469d9222cade84714e23",
       "version_major": 2,
       "version_minor": 0
      },
      "text/plain": [
       "  0%|          | 0/1000 [00:00<?, ?it/s]"
      ]
     },
     "metadata": {},
     "output_type": "display_data"
    },
    {
     "name": "stderr",
     "output_type": "stream",
     "text": [
      " 60%|█████▉    | 34/57 [6:29:01<4:52:24, 762.79s/it]"
     ]
    },
    {
     "name": "stdout",
     "output_type": "stream",
     "text": [
      "c  76000  до включительно  77000\n",
      "40a109a79f8b23bad7ff9f4915361339 --- 87da40649e1242018b4a046dc34ee8ff --- (1000,)\n"
     ]
    },
    {
     "data": {
      "application/vnd.jupyter.widget-view+json": {
       "model_id": "e794cb4e8d164c848424c8eef151330a",
       "version_major": 2,
       "version_minor": 0
      },
      "text/plain": [
       "  0%|          | 0/1000 [00:00<?, ?it/s]"
      ]
     },
     "metadata": {},
     "output_type": "display_data"
    },
    {
     "name": "stderr",
     "output_type": "stream",
     "text": [
      " 61%|██████▏   | 35/57 [6:40:03<4:28:37, 732.59s/it]"
     ]
    },
    {
     "name": "stdout",
     "output_type": "stream",
     "text": [
      "c  77000  до включительно  78000\n",
      "87da40649e1242018b4a046dc34ee8ff --- c68359c242925d036ba06f56aa8c7a73 --- (1000,)\n"
     ]
    },
    {
     "data": {
      "application/vnd.jupyter.widget-view+json": {
       "model_id": "7303a58ebf504b0f92dece1e5d95783b",
       "version_major": 2,
       "version_minor": 0
      },
      "text/plain": [
       "  0%|          | 0/1000 [00:00<?, ?it/s]"
      ]
     },
     "metadata": {},
     "output_type": "display_data"
    },
    {
     "name": "stderr",
     "output_type": "stream",
     "text": [
      " 63%|██████▎   | 36/57 [6:50:54<4:07:47, 707.96s/it]"
     ]
    },
    {
     "name": "stdout",
     "output_type": "stream",
     "text": [
      "c  78000  до включительно  79000\n",
      "c68359c242925d036ba06f56aa8c7a73 --- abfbda698b8e8cbceb25f96d5aebe5d7 --- (1000,)\n"
     ]
    },
    {
     "data": {
      "application/vnd.jupyter.widget-view+json": {
       "model_id": "82b570f9ec4644c59ed0a7667771c923",
       "version_major": 2,
       "version_minor": 0
      },
      "text/plain": [
       "  0%|          | 0/1000 [00:00<?, ?it/s]"
      ]
     },
     "metadata": {},
     "output_type": "display_data"
    },
    {
     "name": "stderr",
     "output_type": "stream",
     "text": [
      " 65%|██████▍   | 37/57 [6:58:52<3:33:00, 639.02s/it]"
     ]
    },
    {
     "name": "stdout",
     "output_type": "stream",
     "text": [
      "c  79000  до включительно  80000\n",
      "abfbda698b8e8cbceb25f96d5aebe5d7 --- 311fe1714eda206915e6a093bc2c228b --- (1000,)\n"
     ]
    },
    {
     "data": {
      "application/vnd.jupyter.widget-view+json": {
       "model_id": "2990b749ccf54405a4de0319018b6064",
       "version_major": 2,
       "version_minor": 0
      },
      "text/plain": [
       "  0%|          | 0/1000 [00:00<?, ?it/s]"
      ]
     },
     "metadata": {},
     "output_type": "display_data"
    },
    {
     "name": "stderr",
     "output_type": "stream",
     "text": [
      " 67%|██████▋   | 38/57 [7:12:23<3:38:46, 690.84s/it]"
     ]
    },
    {
     "name": "stdout",
     "output_type": "stream",
     "text": [
      "c  80000  до включительно  81000\n",
      "311fe1714eda206915e6a093bc2c228b --- f763c3dcc631ccfc8c6c9a61916ae351 --- (1000,)\n"
     ]
    },
    {
     "data": {
      "application/vnd.jupyter.widget-view+json": {
       "model_id": "f963c0f0baa344b1aa34ad8ef2ca9819",
       "version_major": 2,
       "version_minor": 0
      },
      "text/plain": [
       "  0%|          | 0/1000 [00:00<?, ?it/s]"
      ]
     },
     "metadata": {},
     "output_type": "display_data"
    },
    {
     "name": "stdout",
     "output_type": "stream",
     "text": [
      "Ошибка в функции entities\n",
      "Ошибка в функции syntax2\n"
     ]
    },
    {
     "name": "stderr",
     "output_type": "stream",
     "text": [
      " 68%|██████▊   | 39/57 [7:26:08<3:39:19, 731.09s/it]"
     ]
    },
    {
     "name": "stdout",
     "output_type": "stream",
     "text": [
      "c  81000  до включительно  82000\n",
      "f763c3dcc631ccfc8c6c9a61916ae351 --- ee582d8037675d31bb9b1b52f899fbc7 --- (1000,)\n"
     ]
    },
    {
     "data": {
      "application/vnd.jupyter.widget-view+json": {
       "model_id": "004e183553c3410cb0737f75f4bdbac2",
       "version_major": 2,
       "version_minor": 0
      },
      "text/plain": [
       "  0%|          | 0/1000 [00:00<?, ?it/s]"
      ]
     },
     "metadata": {},
     "output_type": "display_data"
    },
    {
     "name": "stderr",
     "output_type": "stream",
     "text": [
      " 70%|███████   | 40/57 [7:37:39<3:23:41, 718.90s/it]"
     ]
    },
    {
     "name": "stdout",
     "output_type": "stream",
     "text": [
      "c  82000  до включительно  83000\n",
      "ee582d8037675d31bb9b1b52f899fbc7 --- 7e870dd50dc1b3e1af2b776f6ea3e509 --- (1000,)\n"
     ]
    },
    {
     "data": {
      "application/vnd.jupyter.widget-view+json": {
       "model_id": "055837e4ee434a6eb46cb51c00dfe63d",
       "version_major": 2,
       "version_minor": 0
      },
      "text/plain": [
       "  0%|          | 0/1000 [00:00<?, ?it/s]"
      ]
     },
     "metadata": {},
     "output_type": "display_data"
    },
    {
     "name": "stderr",
     "output_type": "stream",
     "text": [
      " 72%|███████▏  | 41/57 [7:48:40<3:07:03, 701.49s/it]"
     ]
    },
    {
     "name": "stdout",
     "output_type": "stream",
     "text": [
      "c  83000  до включительно  84000\n",
      "7e870dd50dc1b3e1af2b776f6ea3e509 --- bbe6530adb06a46758b9621abf12ffba --- (1000,)\n"
     ]
    },
    {
     "data": {
      "application/vnd.jupyter.widget-view+json": {
       "model_id": "bc15c9e0b2e34dc1bb68bbb902b62d93",
       "version_major": 2,
       "version_minor": 0
      },
      "text/plain": [
       "  0%|          | 0/1000 [00:00<?, ?it/s]"
      ]
     },
     "metadata": {},
     "output_type": "display_data"
    },
    {
     "name": "stderr",
     "output_type": "stream",
     "text": [
      " 74%|███████▎  | 42/57 [8:02:00<3:02:45, 731.00s/it]"
     ]
    },
    {
     "name": "stdout",
     "output_type": "stream",
     "text": [
      "c  84000  до включительно  85000\n",
      "bbe6530adb06a46758b9621abf12ffba --- b20e8d056c097fafdb513eda0507cae8 --- (1000,)\n"
     ]
    },
    {
     "data": {
      "application/vnd.jupyter.widget-view+json": {
       "model_id": "e39c10d8cef5480fbde861c9859411f5",
       "version_major": 2,
       "version_minor": 0
      },
      "text/plain": [
       "  0%|          | 0/1000 [00:00<?, ?it/s]"
      ]
     },
     "metadata": {},
     "output_type": "display_data"
    },
    {
     "name": "stderr",
     "output_type": "stream",
     "text": [
      " 75%|███████▌  | 43/57 [8:15:26<2:55:52, 753.74s/it]"
     ]
    },
    {
     "name": "stdout",
     "output_type": "stream",
     "text": [
      "c  85000  до включительно  86000\n",
      "b20e8d056c097fafdb513eda0507cae8 --- 272f02d57b0a76c07383932aa9b26970 --- (1000,)\n"
     ]
    },
    {
     "data": {
      "application/vnd.jupyter.widget-view+json": {
       "model_id": "0c675579803849d09b7a165c8a2337a4",
       "version_major": 2,
       "version_minor": 0
      },
      "text/plain": [
       "  0%|          | 0/1000 [00:00<?, ?it/s]"
      ]
     },
     "metadata": {},
     "output_type": "display_data"
    },
    {
     "name": "stderr",
     "output_type": "stream",
     "text": [
      " 77%|███████▋  | 44/57 [8:29:45<2:50:07, 785.19s/it]"
     ]
    },
    {
     "name": "stdout",
     "output_type": "stream",
     "text": [
      "c  86000  до включительно  87000\n",
      "272f02d57b0a76c07383932aa9b26970 --- 0ea52784467611e8f4aec9975ea4decc --- (1000,)\n"
     ]
    },
    {
     "data": {
      "application/vnd.jupyter.widget-view+json": {
       "model_id": "a9a5460d87e548ad9473bde930434970",
       "version_major": 2,
       "version_minor": 0
      },
      "text/plain": [
       "  0%|          | 0/1000 [00:00<?, ?it/s]"
      ]
     },
     "metadata": {},
     "output_type": "display_data"
    },
    {
     "name": "stderr",
     "output_type": "stream",
     "text": [
      " 79%|███████▉  | 45/57 [8:42:53<2:37:11, 785.99s/it]"
     ]
    },
    {
     "name": "stdout",
     "output_type": "stream",
     "text": [
      "c  87000  до включительно  88000\n",
      "0ea52784467611e8f4aec9975ea4decc --- 81ed7664d927037c18a41148b327d545 --- (1000,)\n"
     ]
    },
    {
     "data": {
      "application/vnd.jupyter.widget-view+json": {
       "model_id": "579ec04ac64d43828d89d63b158cd917",
       "version_major": 2,
       "version_minor": 0
      },
      "text/plain": [
       "  0%|          | 0/1000 [00:00<?, ?it/s]"
      ]
     },
     "metadata": {},
     "output_type": "display_data"
    },
    {
     "name": "stdout",
     "output_type": "stream",
     "text": [
      "Ошибка в функции entities\n",
      "Ошибка в функции syntax2\n"
     ]
    },
    {
     "name": "stderr",
     "output_type": "stream",
     "text": [
      " 81%|████████  | 46/57 [8:54:05<2:17:50, 751.86s/it]"
     ]
    },
    {
     "name": "stdout",
     "output_type": "stream",
     "text": [
      "c  88000  до включительно  89000\n",
      "81ed7664d927037c18a41148b327d545 --- 03e4103cfde5288e5fbf00a4db940bae --- (1000,)\n"
     ]
    },
    {
     "data": {
      "application/vnd.jupyter.widget-view+json": {
       "model_id": "4b9d4054df0d407c804b605e2acf875f",
       "version_major": 2,
       "version_minor": 0
      },
      "text/plain": [
       "  0%|          | 0/1000 [00:00<?, ?it/s]"
      ]
     },
     "metadata": {},
     "output_type": "display_data"
    },
    {
     "name": "stderr",
     "output_type": "stream",
     "text": [
      " 82%|████████▏ | 47/57 [9:04:08<1:57:52, 707.30s/it]"
     ]
    },
    {
     "name": "stdout",
     "output_type": "stream",
     "text": [
      "c  89000  до включительно  90000\n",
      "03e4103cfde5288e5fbf00a4db940bae --- ced5a80bfcc87e6a8146098bb72773ac --- (1000,)\n"
     ]
    },
    {
     "data": {
      "application/vnd.jupyter.widget-view+json": {
       "model_id": "18721d899e81407c89ad704be46cb823",
       "version_major": 2,
       "version_minor": 0
      },
      "text/plain": [
       "  0%|          | 0/1000 [00:00<?, ?it/s]"
      ]
     },
     "metadata": {},
     "output_type": "display_data"
    },
    {
     "name": "stderr",
     "output_type": "stream",
     "text": [
      " 84%|████████▍ | 48/57 [9:15:35<1:45:09, 701.03s/it]"
     ]
    },
    {
     "name": "stdout",
     "output_type": "stream",
     "text": [
      "c  90000  до включительно  91000\n",
      "ced5a80bfcc87e6a8146098bb72773ac --- 6d83df64d33969c16bef2633e51bc9b2 --- (1000,)\n"
     ]
    },
    {
     "data": {
      "application/vnd.jupyter.widget-view+json": {
       "model_id": "f8daa593daa9486089d3d5a8e3f3a923",
       "version_major": 2,
       "version_minor": 0
      },
      "text/plain": [
       "  0%|          | 0/1000 [00:00<?, ?it/s]"
      ]
     },
     "metadata": {},
     "output_type": "display_data"
    },
    {
     "name": "stderr",
     "output_type": "stream",
     "text": [
      "Exception deserializing message!\n",
      "Traceback (most recent call last):\n",
      "  File \"/opt/conda/lib/python3.7/site-packages/grpc/_common.py\", line 86, in _transform\n",
      "    return transformer(message)\n",
      "  File \"/opt/conda/lib/python3.7/site-packages/proto/message.py\", line 328, in deserialize\n",
      "    return cls.wrap(cls.pb().FromString(payload))\n",
      "google.protobuf.message.DecodeError: Error parsing message\n"
     ]
    },
    {
     "name": "stdout",
     "output_type": "stream",
     "text": [
      "Ошибка в функции syntax2\n"
     ]
    },
    {
     "name": "stderr",
     "output_type": "stream",
     "text": [
      " 86%|████████▌ | 49/57 [9:28:51<1:37:16, 729.57s/it]"
     ]
    },
    {
     "name": "stdout",
     "output_type": "stream",
     "text": [
      "c  91000  до включительно  92000\n",
      "6d83df64d33969c16bef2633e51bc9b2 --- 674075974221bb09d54c37655b1dadcc --- (1000,)\n"
     ]
    },
    {
     "data": {
      "application/vnd.jupyter.widget-view+json": {
       "model_id": "baacbb4e332b49049cea252f37a5b3d2",
       "version_major": 2,
       "version_minor": 0
      },
      "text/plain": [
       "  0%|          | 0/1000 [00:00<?, ?it/s]"
      ]
     },
     "metadata": {},
     "output_type": "display_data"
    },
    {
     "name": "stderr",
     "output_type": "stream",
     "text": [
      " 88%|████████▊ | 50/57 [9:41:33<1:26:15, 739.31s/it]"
     ]
    },
    {
     "name": "stdout",
     "output_type": "stream",
     "text": [
      "c  92000  до включительно  93000\n",
      "674075974221bb09d54c37655b1dadcc --- ee34ae9bded0e180e7db80d8da2bb5b0 --- (1000,)\n"
     ]
    },
    {
     "data": {
      "application/vnd.jupyter.widget-view+json": {
       "model_id": "ca730b4641fa4b5daa0abcfd98542a62",
       "version_major": 2,
       "version_minor": 0
      },
      "text/plain": [
       "  0%|          | 0/1000 [00:00<?, ?it/s]"
      ]
     },
     "metadata": {},
     "output_type": "display_data"
    },
    {
     "name": "stdout",
     "output_type": "stream",
     "text": [
      "Ошибка в функции entities\n",
      "Ошибка в функции syntax2\n"
     ]
    },
    {
     "name": "stderr",
     "output_type": "stream",
     "text": [
      " 89%|████████▉ | 51/57 [9:52:04<1:10:40, 706.78s/it]"
     ]
    },
    {
     "name": "stdout",
     "output_type": "stream",
     "text": [
      "c  93000  до включительно  94000\n",
      "ee34ae9bded0e180e7db80d8da2bb5b0 --- 109c0901968d5a76adab68a2c324d4d7 --- (1000,)\n"
     ]
    },
    {
     "data": {
      "application/vnd.jupyter.widget-view+json": {
       "model_id": "f7fddb75e8d54cf08d4f68083523013c",
       "version_major": 2,
       "version_minor": 0
      },
      "text/plain": [
       "  0%|          | 0/1000 [00:00<?, ?it/s]"
      ]
     },
     "metadata": {},
     "output_type": "display_data"
    },
    {
     "name": "stdout",
     "output_type": "stream",
     "text": [
      "Ошибка в функции entities\n",
      "Ошибка в функции syntax2\n",
      "Ошибка в функции entities\n",
      "Ошибка в функции syntax2\n"
     ]
    },
    {
     "name": "stderr",
     "output_type": "stream",
     "text": [
      " 91%|█████████ | 52/57 [10:03:41<58:38, 703.73s/it] "
     ]
    },
    {
     "name": "stdout",
     "output_type": "stream",
     "text": [
      "c  94000  до включительно  95000\n",
      "109c0901968d5a76adab68a2c324d4d7 --- a37e1b13a328ed893ab3ecdf3200298d --- (1000,)\n"
     ]
    },
    {
     "data": {
      "application/vnd.jupyter.widget-view+json": {
       "model_id": "b693b6df99844e9a8a88b1a800b8f2db",
       "version_major": 2,
       "version_minor": 0
      },
      "text/plain": [
       "  0%|          | 0/1000 [00:00<?, ?it/s]"
      ]
     },
     "metadata": {},
     "output_type": "display_data"
    },
    {
     "name": "stderr",
     "output_type": "stream",
     "text": [
      " 93%|█████████▎| 53/57 [10:16:08<47:47, 716.82s/it]"
     ]
    },
    {
     "name": "stdout",
     "output_type": "stream",
     "text": [
      "c  95000  до включительно  96000\n",
      "a37e1b13a328ed893ab3ecdf3200298d --- 77ec3a9e4860df1af4584ca7bb4a0d40 --- (1000,)\n"
     ]
    },
    {
     "data": {
      "application/vnd.jupyter.widget-view+json": {
       "model_id": "3754498c66184c6fa5c70c6da7457a67",
       "version_major": 2,
       "version_minor": 0
      },
      "text/plain": [
       "  0%|          | 0/1000 [00:00<?, ?it/s]"
      ]
     },
     "metadata": {},
     "output_type": "display_data"
    },
    {
     "name": "stdout",
     "output_type": "stream",
     "text": [
      "Ошибка в функции sentiment\n",
      "Ошибка в функции entities\n",
      "Ошибка в функции syntax2\n"
     ]
    },
    {
     "name": "stderr",
     "output_type": "stream",
     "text": [
      " 95%|█████████▍| 54/57 [10:31:27<38:52, 777.46s/it]"
     ]
    },
    {
     "name": "stdout",
     "output_type": "stream",
     "text": [
      "c  96000  до включительно  97000\n",
      "77ec3a9e4860df1af4584ca7bb4a0d40 --- 2c6ef08dbf964f47d17792b17b0ed233 --- (1000,)\n"
     ]
    },
    {
     "data": {
      "application/vnd.jupyter.widget-view+json": {
       "model_id": "47d8fd3c09344eda807a2b8551bd8ecf",
       "version_major": 2,
       "version_minor": 0
      },
      "text/plain": [
       "  0%|          | 0/1000 [00:00<?, ?it/s]"
      ]
     },
     "metadata": {},
     "output_type": "display_data"
    },
    {
     "name": "stderr",
     "output_type": "stream",
     "text": [
      " 96%|█████████▋| 55/57 [10:40:49<23:45, 712.98s/it]"
     ]
    },
    {
     "name": "stdout",
     "output_type": "stream",
     "text": [
      "c  97000  до включительно  98000\n",
      "2c6ef08dbf964f47d17792b17b0ed233 --- bebf8e035a900f0759ead21eca6b96a2 --- (1000,)\n"
     ]
    },
    {
     "data": {
      "application/vnd.jupyter.widget-view+json": {
       "model_id": "83740880a1044836892057a7f06466e8",
       "version_major": 2,
       "version_minor": 0
      },
      "text/plain": [
       "  0%|          | 0/1000 [00:00<?, ?it/s]"
      ]
     },
     "metadata": {},
     "output_type": "display_data"
    },
    {
     "name": "stderr",
     "output_type": "stream",
     "text": [
      " 98%|█████████▊| 56/57 [10:51:36<11:33, 693.10s/it]"
     ]
    },
    {
     "name": "stdout",
     "output_type": "stream",
     "text": [
      "c  98000  до включительно  99000\n",
      "bebf8e035a900f0759ead21eca6b96a2 --- 11fcd0e723918cabcf2c2cbe4a8600d7 --- (1000,)\n"
     ]
    },
    {
     "data": {
      "application/vnd.jupyter.widget-view+json": {
       "model_id": "202aa1d40d934d769832b70b20cc4e85",
       "version_major": 2,
       "version_minor": 0
      },
      "text/plain": [
       "  0%|          | 0/1000 [00:00<?, ?it/s]"
      ]
     },
     "metadata": {},
     "output_type": "display_data"
    },
    {
     "name": "stdout",
     "output_type": "stream",
     "text": [
      "Ошибка в функции entities\n",
      "Ошибка в функции syntax2\n"
     ]
    },
    {
     "name": "stderr",
     "output_type": "stream",
     "text": [
      "100%|██████████| 57/57 [11:02:40<00:00, 697.56s/it]\n"
     ]
    }
   ],
   "source": [
    "for i in tqdm(range(43,100)):    \n",
    "    print('c ',(i-1)*1000, ' до включительно ',i*1000)\n",
    "    print(df['review_id'][(i-1)*1000],'---',df['review_id'][i*1000],'---',df['review_id'][(i-1)*1000:i*1000].shape)\n",
    "    df['tmp'][(i-1)*1000:i*1000] = df['C'][(i-1)*1000:i*1000].progress_apply(get_text_for_nlp)\n",
    "    df5=df[['review_id','order_id','tmp']]\n",
    "    filename1='tmp'+str(i)+'.csv'\n",
    "    df5[(i-1)*1000:i*1000].to_csv(os.path.join(PATH, filename1), sep=';', header=True, index=False)"
   ]
  },
  {
   "cell_type": "code",
   "execution_count": 59,
   "metadata": {},
   "outputs": [
    {
     "data": {
      "application/vnd.jupyter.widget-view+json": {
       "model_id": "0bfff8c7b32e468c82a5b58e2e0c7dfb",
       "version_major": 2,
       "version_minor": 0
      },
      "text/plain": [
       "  0%|          | 0/224 [00:00<?, ?it/s]"
      ]
     },
     "metadata": {},
     "output_type": "display_data"
    },
    {
     "name": "stderr",
     "output_type": "stream",
     "text": [
      "/opt/conda/lib/python3.7/site-packages/ipykernel_launcher.py:4: SettingWithCopyWarning: \n",
      "A value is trying to be set on a copy of a slice from a DataFrame\n",
      "\n",
      "See the caveats in the documentation: https://pandas.pydata.org/pandas-docs/stable/user_guide/indexing.html#returning-a-view-versus-a-copy\n",
      "  after removing the cwd from sys.path.\n"
     ]
    }
   ],
   "source": [
    "#for i in tqdm(range(99000,99225)):    \n",
    "#    print('c ',(i-1), ' до включительно ',i)\n",
    "#    print(df['review_id'][(i-1)],'---',df['review_id'][i],'---',df['review_id'][(i-1):i].shape)\n",
    "df['tmp'][99000:99225] = df['C'][99000:99225].progress_apply(get_text_for_nlp)\n",
    "df5=df[['review_id','order_id','tmp']]\n",
    "filename1='tmp'+str(100)+'.csv'\n",
    "df5[99000:99225].to_csv(os.path.join(PATH, filename1), sep=';', header=True, index=False)"
   ]
  },
  {
   "cell_type": "markdown",
   "metadata": {},
   "source": [
    "# Сохраняем промежуточные результаты, разворачиваем полученные данные по столбцам, сохраняем в CSV-файлы в виде разных наборов полей"
   ]
  },
  {
   "cell_type": "code",
   "execution_count": 61,
   "metadata": {},
   "outputs": [],
   "source": [
    "# сохраняем промежуточный результат от API во внешний файл, с привязкой к ключевым полям.\n",
    "filename1='tmp_all.csv'\n",
    "df5.to_csv(os.path.join(PATH, filename1), sep=';', header=True, index=False)"
   ]
  },
  {
   "cell_type": "code",
   "execution_count": 75,
   "metadata": {},
   "outputs": [
    {
     "data": {
      "text/html": [
       "<div><div id=f3a394b0-bb3d-418e-b4e8-2b827e8d1b1a style=\"display:none; background-color:#9D6CFF; color:white; width:200px; height:30px; padding-left:5px; border-radius:4px; flex-direction:row; justify-content:space-around; align-items:center;\" onmouseover=\"this.style.backgroundColor='#BA9BF8'\" onmouseout=\"this.style.backgroundColor='#9D6CFF'\" onclick=\"window.commands?.execute('create-mitosheet-from-dataframe-output');\">See Full Dataframe in Mito</div> <script> if (window.commands.hasCommand('create-mitosheet-from-dataframe-output')) document.getElementById('f3a394b0-bb3d-418e-b4e8-2b827e8d1b1a').style.display = 'flex' </script> <table border=\"1\" class=\"dataframe\">\n",
       "  <thead>\n",
       "    <tr style=\"text-align: right;\">\n",
       "      <th></th>\n",
       "      <th>C</th>\n",
       "      <th>tmp</th>\n",
       "    </tr>\n",
       "  </thead>\n",
       "  <tbody>\n",
       "    <tr>\n",
       "      <th>0</th>\n",
       "      <td></td>\n",
       "      <td>0</td>\n",
       "    </tr>\n",
       "    <tr>\n",
       "      <th>1</th>\n",
       "      <td></td>\n",
       "      <td>0</td>\n",
       "    </tr>\n",
       "    <tr>\n",
       "      <th>2</th>\n",
       "      <td></td>\n",
       "      <td>0</td>\n",
       "    </tr>\n",
       "    <tr>\n",
       "      <th>3</th>\n",
       "      <td>Recebi bem antes do prazo estipulado.</td>\n",
       "      <td>(0.8999999761581421, 0.8999999761581421, [{'name': 'prazo', 'type': 'OTHER', 'salience': 1.0, 'wikipedia_url': '-', 'mid': '-'}], 1, 7, [Recebi bem antes do prazo estipulado.], [{'token_text': 'Recebi', 'token_label': 'ROOT', 'token_head_index': 0, 'token_tag': 'VERB', 'token_gender': 'GENDER_UNKNOWN', 'token_number': 'SINGULAR', 'token_proper': 'NOT_PROPER', 'token_lemma': 'Receber'}, {'token_text': 'bem', 'token_label': 'ADVMOD', 'token_head_index': 2, 'token_tag': 'ADV', 'token_gender': 'GENDER_UNKNOWN', 'token_number': 'NUMBER_UNKNOWN', 'token_proper': 'NOT_PROPER', 'token_lemma': 'bem'}, {'token_text': 'antes', 'token_label': 'ADVMOD', 'token_head_index': 0, 'token_tag': 'ADV', 'token_gender': 'GENDER_UNKNOWN', 'token_number': 'NUMBER_UNKNOWN', 'token_proper': 'NOT_PROPER', 'token_lemma': 'antes'}, {'token_text': 'do', 'token_label': 'PREP', 'token_head_index': 2, 'token_tag': 'ADP', 'token_gender': 'MASCULINE', 'token_number': 'SINGULAR', 'token_proper': 'NOT_PROPER', 'token_lemma': 'do'}, {'token_text': 'prazo', 'token_label': 'POBJ', 'token_head_index': 3, 'token_tag': 'NOUN', 'token_gender': 'MASCULINE', 'token_number': 'SINGULAR', 'token_proper': 'NOT_PROPER', 'token_lemma': 'prazo'}, {'token_text': 'estipulado', 'token_label': 'AMOD', 'token_head_index': 4, 'token_tag': 'ADJ', 'token_gender': 'MASCULINE', 'token_number': 'SINGULAR', 'token_proper': 'NOT_PROPER', 'token_lemma': 'estipulado'}, {'token_text': '.', 'token_label': 'P', 'token_head_index': 0, 'token_tag': 'PUNCT', 'token_gender': 'GENDER_UNKNOWN', 'token_number': 'NUMBER_UNKNOWN', 'token_proper': 'NOT_PROPER', 'token_lemma': '.'}])</td>\n",
       "    </tr>\n",
       "    <tr>\n",
       "      <th>4</th>\n",
       "      <td>Parabéns lojas lannister adorei comprar pela Internet seguro e prático Parabéns a todos feliz Páscoa</td>\n",
       "      <td>(0.8999999761581421, 0.8999999761581421, [{'name': 'lojas', 'type': 'ORGANIZATION', 'salience': 0.33150118589401245, 'wikipedia_url': '-', 'mid': '-'}, {'name': 'Páscoa', 'type': 'EVENT', 'salience': 0.248890683054924, 'wikipedia_url': '-', 'mid': '-'}, {'name': 'todos', 'type': 'PERSON', 'salience': 0.23264864087104797, 'wikipedia_url': '-', 'mid': '-'}, {'name': 'Internet', 'type': 'OTHER', 'salience': 0.18695949018001556, 'wikipedia_url': '-', 'mid': '-'}], 1, 15, [Parabéns lojas lannister adorei comprar pela Internet seguro e prático Parabéns a todos feliz Páscoa], [{'token_text': 'Parabéns', 'token_label': 'NUM', 'token_head_index': 1, 'token_tag': 'NUM', 'token_gender': 'GENDER_UNKNOWN', 'token_number': 'NUMBER_UNKNOWN', 'token_proper': 'NOT_PROPER', 'token_lemma': 'Parabéns'}, {'token_text': 'lojas', 'token_label': 'NSUBJ', 'token_head_index': 3, 'token_tag': 'NOUN', 'token_gender': 'FEMININE', 'token_number': 'PLURAL', 'token_proper': 'NOT_PROPER', 'token_lemma': 'loja'}, {'token_text': 'lannister', 'token_label': 'AMOD', 'token_head_index': 1, 'token_tag': 'ADJ', 'token_gender': 'FEMININE', 'token_number': 'PLURAL', 'token_proper': 'NOT_PROPER', 'token_lemma': 'lannister'}, {'token_text': 'adorei', 'token_label': 'ROOT', 'token_head_index': 3, 'token_tag': 'VERB', 'token_gender': 'GENDER_UNKNOWN', 'token_number': 'SINGULAR', 'token_proper': 'NOT_PROPER', 'token_lemma': 'adorar'}, {'token_text': 'comprar', 'token_label': 'XCOMP', 'token_head_index': 3, 'token_tag': 'VERB', 'token_gender': 'GENDER_UNKNOWN', 'token_number': 'NUMBER_UNKNOWN', 'token_proper': 'NOT_PROPER', 'token_lemma': 'comprar'}, {'token_text': 'pela', 'token_label': 'PREP', 'token_head_index': 4, 'token_tag': 'ADP', 'token_gender': 'FEMININE', 'token_number': 'SINGULAR', 'token_proper': 'NOT_PROPER', 'token_lemma': 'pela'}, {'token_text': 'Internet', 'token_label': 'POBJ', 'token_head_index': 5, 'token_tag': 'NOUN', 'token_gender': 'FEMININE', 'token_number': 'SINGULAR', 'token_proper': 'NOT_PROPER', 'token_lemma': 'Internet'}, {'token_text': 'seguro', 'token_label': 'AMOD', 'token_head_index': 6, 'token_tag': 'ADJ', 'token_gender': 'MASCULINE', 'token_number': 'SINGULAR', 'token_proper': 'NOT_PROPER', 'token_lemma': 'seguro'}, {'token_text': 'e', 'token_label': 'CC', 'token_head_index': 7, 'token_tag': 'CONJ', 'token_gender': 'GENDER_UNKNOWN', 'token_number': 'NUMBER_UNKNOWN', 'token_proper': 'NOT_PROPER', 'token_lemma': 'e'}, {'token_text': 'prático', 'token_label': 'CONJ', 'token_head_index': 7, 'token_tag': 'ADJ', 'token_gender': 'MASCULINE', 'token_number': 'SINGULAR', 'token_proper': 'NOT_PROPER', 'token_lemma': 'prático'}, {'token_text': 'Parabéns', 'token_label': 'XCOMP', 'token_head_index': 4, 'token_tag': 'VERB', 'token_gender': 'GENDER_UNKNOWN', 'token_number': 'SINGULAR', 'token_proper': 'NOT_PROPER', 'token_lemma': 'Parabéns'}, {'token_text': 'a', 'token_label': 'PREP', 'token_head_index': 10, 'token_tag': 'ADP', 'token_gender': 'GENDER_UNKNOWN', 'token_number': 'NUMBER_UNKNOWN', 'token_proper': 'NOT_PROPER', 'token_lemma': 'a'}, {'token_text': 'todos', 'token_label': 'POBJ', 'token_head_index': 11, 'token_tag': 'NOUN', 'token_gender': 'MASCULINE', 'token_number': 'PLURAL', 'token_proper': 'NOT_PROPER', 'token_lemma': 'todos'}, {'token_text': 'feliz', 'token_label': 'AMOD', 'token_head_index': 12, 'token_tag': 'ADJ', 'token_gender': 'FEMININE', 'token_number': 'SINGULAR', 'token_proper': 'NOT_PROPER', 'token_lemma': 'feliz'}, {'token_text': 'Páscoa', 'token_label': 'DOBJ', 'token_head_index': 4, 'token_tag': 'NOUN', 'token_gender': 'FEMININE', 'token_number': 'SINGULAR', 'token_proper': 'PROPER', 'token_lemma': 'Páscoa'}])</td>\n",
       "    </tr>\n",
       "    <tr>\n",
       "      <th>5</th>\n",
       "      <td></td>\n",
       "      <td>0</td>\n",
       "    </tr>\n",
       "    <tr>\n",
       "      <th>6</th>\n",
       "      <td></td>\n",
       "      <td>0</td>\n",
       "    </tr>\n",
       "    <tr>\n",
       "      <th>7</th>\n",
       "      <td></td>\n",
       "      <td>0</td>\n",
       "    </tr>\n",
       "    <tr>\n",
       "      <th>8</th>\n",
       "      <td></td>\n",
       "      <td>0</td>\n",
       "    </tr>\n",
       "    <tr>\n",
       "      <th>9</th>\n",
       "      <td>recomendo. aparelho eficiente. no site a marca do aparelho esta impresso como 3desinfector e ao chegar esta com outro nome...atualizar com a marca correta uma vez que é o mesmo aparelho</td>\n",
       "      <td>(0.10000000149011612, 0.10000000149011612, [{'name': 'aparelho', 'type': 'CONSUMER_GOOD', 'salience': 0.20637184381484985, 'wikipedia_url': '-', 'mid': '-'}, {'name': 'aparelho', 'type': 'CONSUMER_GOOD', 'salience': 0.13574722409248352, 'wikipedia_url': '-', 'mid': '-'}, {'name': 'site', 'type': 'WORK_OF_ART', 'salience': 0.12026844918727875, 'wikipedia_url': '-', 'mid': '-'}, {'name': 'aparelho', 'type': 'CONSUMER_GOOD', 'salience': 0.11274923384189606, 'wikipedia_url': '-', 'mid': '-'}, {'name': 'marca', 'type': 'OTHER', 'salience': 0.10149455815553665, 'wikipedia_url': '-', 'mid': '-'}, {'name': 'marca', 'type': 'OTHER', 'salience': 0.10052862018346786, 'wikipedia_url': '-', 'mid': '-'}, {'name': 'nome', 'type': 'OTHER', 'salience': 0.08610891550779343, 'wikipedia_url': '-', 'mid': '-'}, {'name': 'vez', 'type': 'OTHER', 'salience': 0.07884613424539566, 'wikipedia_url': '-', 'mid': '-'}, {'name': 'impresso', 'type': 'ORGANIZATION', 'salience': 0.057885024696588516, 'wikipedia_url': '-', 'mid': '-'}, {'name': '3', 'type': 'NUMBER', 'salience': 0.0, 'wikipedia_url': '-', 'mid': '-'}, {'name': 'uma', 'type': 'NUMBER', 'salience': 0.0, 'wikipedia_url': '-', 'mid': '-'}], 1, 33, [recomendo. aparelho eficiente. no site a marca do aparelho esta impresso como 3desinfector e ao chegar esta com outro nome...atualizar com a marca correta uma vez que é o mesmo aparelho], [{'token_text': 'recomendo.', 'token_label': 'DET', 'token_head_index': 1, 'token_tag': 'DET', 'token_gender': 'MASCULINE', 'token_number': 'SINGULAR', 'token_proper': 'NOT_PROPER', 'token_lemma': 'recomendo.'}, {'token_text': 'aparelho', 'token_label': 'NSUBJ', 'token_head_index': 21, 'token_tag': 'NOUN', 'token_gender': 'MASCULINE', 'token_number': 'SINGULAR', 'token_proper': 'NOT_PROPER', 'token_lemma': 'aparelho'}, {'token_text': 'eficiente.', 'token_label': 'AMOD', 'token_head_index': 1, 'token_tag': 'ADJ', 'token_gender': 'MASCULINE', 'token_number': 'SINGULAR', 'token_proper': 'NOT_PROPER', 'token_lemma': 'eficiente.'}, {'token_text': 'no', 'token_label': 'PREP', 'token_head_index': 1, 'token_tag': 'ADP', 'token_gender': 'MASCULINE', 'token_number': 'SINGULAR', 'token_proper': 'NOT_PROPER', 'token_lemma': 'no'}, {'token_text': 'site', 'token_label': 'POBJ', 'token_head_index': 3, 'token_tag': 'NOUN', 'token_gender': 'MASCULINE', 'token_number': 'SINGULAR', 'token_proper': 'NOT_PROPER', 'token_lemma': 'site'}, {'token_text': 'a', 'token_label': 'DET', 'token_head_index': 6, 'token_tag': 'DET', 'token_gender': 'FEMININE', 'token_number': 'SINGULAR', 'token_proper': 'NOT_PROPER', 'token_lemma': 'o'}, {'token_text': 'marca', 'token_label': 'APPOS', 'token_head_index': 1, 'token_tag': 'NOUN', 'token_gender': 'FEMININE', 'token_number': 'SINGULAR', 'token_proper': 'NOT_PROPER', 'token_lemma': 'marca'}, {'token_text': 'do', 'token_label': 'PREP', 'token_head_index': 6, 'token_tag': 'ADP', 'token_gender': 'MASCULINE', 'token_number': 'SINGULAR', 'token_proper': 'NOT_PROPER', 'token_lemma': 'do'}, {'token_text': 'aparelho', 'token_label': 'POBJ', 'token_head_index': 7, 'token_tag': 'NOUN', 'token_gender': 'MASCULINE', 'token_number': 'SINGULAR', 'token_proper': 'NOT_PROPER', 'token_lemma': 'aparelho'}, {'token_text': 'esta', 'token_label': 'DET', 'token_head_index': 10, 'token_tag': 'DET', 'token_gender': 'FEMININE', 'token_number': 'SINGULAR', 'token_proper': 'NOT_PROPER', 'token_lemma': 'este'}, {'token_text': 'impresso', 'token_label': 'APPOS', 'token_head_index': 6, 'token_tag': 'ADJ', 'token_gender': 'MASCULINE', 'token_number': 'SINGULAR', 'token_proper': 'NOT_PROPER', 'token_lemma': 'impresso'}, {'token_text': 'como', 'token_label': 'PREP', 'token_head_index': 10, 'token_tag': 'ADP', 'token_gender': 'GENDER_UNKNOWN', 'token_number': 'NUMBER_UNKNOWN', 'token_proper': 'NOT_PROPER', 'token_lemma': 'como'}, {'token_text': '3desinfector', 'token_label': 'POBJ', 'token_head_index': 11, 'token_tag': 'ADJ', 'token_gender': 'FEMININE', 'token_number': 'SINGULAR', 'token_proper': 'NOT_PROPER', 'token_lemma': '3desinfector'}, {'token_text': 'e', 'token_label': 'CC', 'token_head_index': 11, 'token_tag': 'CONJ', 'token_gender': 'GENDER_UNKNOWN', 'token_number': 'NUMBER_UNKNOWN', 'token_proper': 'NOT_PROPER', 'token_lemma': 'e'}, {'token_text': 'ao', 'token_label': 'CONJ', 'token_head_index': 11, 'token_tag': 'ADP', 'token_gender': 'MASCULINE', 'token_number': 'SINGULAR', 'token_proper': 'NOT_PROPER', 'token_lemma': 'ao'}, {'token_text': 'chegar', 'token_label': 'PCOMP', 'token_head_index': 14, 'token_tag': 'VERB', 'token_gender': 'GENDER_UNKNOWN', 'token_number': 'NUMBER_UNKNOWN', 'token_proper': 'NOT_PROPER', 'token_lemma': 'chegar'}, {'token_text': 'esta', 'token_label': 'DOBJ', 'token_head_index': 15, 'token_tag': 'DET', 'token_gender': 'FEMININE', 'token_number': 'SINGULAR', 'token_proper': 'NOT_PROPER', 'token_lemma': 'este'}, {'token_text': 'com', 'token_label': 'PREP', 'token_head_index': 15, 'token_tag': 'ADP', 'token_gender': 'GENDER_UNKNOWN', 'token_number': 'NUMBER_UNKNOWN', 'token_proper': 'NOT_PROPER', 'token_lemma': 'com'}, {'token_text': 'outro', 'token_label': 'DET', 'token_head_index': 19, 'token_tag': 'DET', 'token_gender': 'MASCULINE', 'token_number': 'SINGULAR', 'token_proper': 'NOT_PROPER', 'token_lemma': 'outro'}, {'token_text': 'nome', 'token_label': 'POBJ', 'token_head_index': 17, 'token_tag': 'NOUN', 'token_gender': 'MASCULINE', 'token_number': 'SINGULAR', 'token_proper': 'NOT_PROPER', 'token_lemma': 'nome'}, {'token_text': '...', 'token_label': 'P', 'token_head_index': 6, 'token_tag': 'PUNCT', 'token_gender': 'GENDER_UNKNOWN', 'token_number': 'NUMBER_UNKNOWN', 'token_proper': 'NOT_PROPER', 'token_lemma': '...'}, {'token_text': 'atualizar', 'token_label': 'ROOT', 'token_head_index': 21, 'token_tag': 'VERB', 'token_gender': 'GENDER_UNKNOWN', 'token_number': 'NUMBER_UNKNOWN', 'token_proper': 'NOT_PROPER', 'token_lemma': 'atualizar'}, {'token_text': 'com', 'token_label': 'PREP', 'token_head_index': 21, 'token_tag': 'ADP', 'token_gender': 'GENDER_UNKNOWN', 'token_number': 'NUMBER_UNKNOWN', 'token_proper': 'NOT_PROPER', 'token_lemma': 'com'}, {'token_text': 'a', 'token_label': 'DET', 'token_head_index': 24, 'token_tag': 'DET', 'token_gender': 'FEMININE', 'token_number': 'SINGULAR', 'token_proper': 'NOT_PROPER', 'token_lemma': 'o'}, {'token_text': 'marca', 'token_label': 'POBJ', 'token_head_index': 22, 'token_tag': 'NOUN', 'token_gender': 'FEMININE', 'token_number': 'SINGULAR', 'token_proper': 'NOT_PROPER', 'token_lemma': 'marca'}, {'token_text': 'correta', 'token_label': 'AMOD', 'token_head_index': 24, 'token_tag': 'ADJ', 'token_gender': 'FEMININE', 'token_number': 'SINGULAR', 'token_proper': 'NOT_PROPER', 'token_lemma': 'correta'}, {'token_text': 'uma', 'token_label': 'DET', 'token_head_index': 27, 'token_tag': 'DET', 'token_gender': 'FEMININE', 'token_number': 'SINGULAR', 'token_proper': 'NOT_PROPER', 'token_lemma': 'um'}, {'token_text': 'vez', 'token_label': 'NPADVMOD', 'token_head_index': 21, 'token_tag': 'NOUN', 'token_gender': 'FEMININE', 'token_number': 'SINGULAR', 'token_proper': 'NOT_PROPER', 'token_lemma': 'vez'}, {'token_text': 'que', 'token_label': 'NSUBJ', 'token_head_index': 29, 'token_tag': 'PRON', 'token_gender': 'GENDER_UNKNOWN', 'token_number': 'NUMBER_UNKNOWN', 'token_proper': 'NOT_PROPER', 'token_lemma': 'que'}, {'token_text': 'é', 'token_label': 'RCMOD', 'token_head_index': 27, 'token_tag': 'VERB', 'token_gender': 'GENDER_UNKNOWN', 'token_number': 'SINGULAR', 'token_proper': 'NOT_PROPER', 'token_lemma': 'ser'}, {'token_text': 'o', 'token_label': 'DET', 'token_head_index': 32, 'token_tag': 'DET', 'token_gender': 'MASCULINE', 'token_number': 'SINGULAR', 'token_proper': 'NOT_PROPER', 'token_lemma': 'o'}, {'token_text': 'mesmo', 'token_label': 'DET', 'token_head_index': 32, 'token_tag': 'DET', 'token_gender': 'MASCULINE', 'token_number': 'SINGULAR', 'token_proper': 'NOT_PROPER', 'token_lemma': 'mesmo'}, {'token_text': 'aparelho', 'token_label': 'ATTR', 'token_head_index': 29, 'token_tag': 'NOUN', 'token_gender': 'MASCULINE', 'token_number': 'SINGULAR', 'token_proper': 'NOT_PROPER', 'token_lemma': 'aparelho'}])</td>\n",
       "    </tr>\n",
       "  </tbody>\n",
       "</table></div>"
      ],
      "text/plain": [
       "                                                   C  \\\n",
       "0                                                      \n",
       "1                                                      \n",
       "2                                                      \n",
       "3              Recebi bem antes do prazo estipulado.   \n",
       "4  Parabéns lojas lannister adorei comprar pela I...   \n",
       "5                                                      \n",
       "6                                                      \n",
       "7                                                      \n",
       "8                                                      \n",
       "9  recomendo. aparelho eficiente. no site a marca...   \n",
       "\n",
       "                                                 tmp  \n",
       "0                                                  0  \n",
       "1                                                  0  \n",
       "2                                                  0  \n",
       "3  (0.8999999761581421, 0.8999999761581421, [{'na...  \n",
       "4  (0.8999999761581421, 0.8999999761581421, [{'na...  \n",
       "5                                                  0  \n",
       "6                                                  0  \n",
       "7                                                  0  \n",
       "8                                                  0  \n",
       "9  (0.10000000149011612, 0.10000000149011612, [{'...  "
      ]
     },
     "execution_count": 75,
     "metadata": {},
     "output_type": "execute_result"
    }
   ],
   "source": [
    "df[['C','tmp']][0:10]"
   ]
  },
  {
   "cell_type": "code",
   "execution_count": 91,
   "metadata": {},
   "outputs": [
    {
     "data": {
      "text/plain": [
       "(76, 2)"
      ]
     },
     "execution_count": 91,
     "metadata": {},
     "output_type": "execute_result"
    }
   ],
   "source": [
    "# необработанные тексты отзывов. Это однобуквенные значения.\n",
    "df[(df['C']!=\"\") & (df['tmp']==0)][['C','tmp']].shape"
   ]
  },
  {
   "cell_type": "code",
   "execution_count": 101,
   "metadata": {},
   "outputs": [
    {
     "data": {
      "text/html": [
       "<div><div id=268fe0c9-460d-44b1-abfb-68be29ab3055 style=\"display:none; background-color:#9D6CFF; color:white; width:200px; height:30px; padding-left:5px; border-radius:4px; flex-direction:row; justify-content:space-around; align-items:center;\" onmouseover=\"this.style.backgroundColor='#BA9BF8'\" onmouseout=\"this.style.backgroundColor='#9D6CFF'\" onclick=\"window.commands?.execute('create-mitosheet-from-dataframe-output');\">See Full Dataframe in Mito</div> <script> if (window.commands.hasCommand('create-mitosheet-from-dataframe-output')) document.getElementById('268fe0c9-460d-44b1-abfb-68be29ab3055').style.display = 'flex' </script> <table border=\"1\" class=\"dataframe\">\n",
       "  <thead>\n",
       "    <tr style=\"text-align: right;\">\n",
       "      <th></th>\n",
       "      <th>review_id</th>\n",
       "      <th>order_id</th>\n",
       "      <th>tmp</th>\n",
       "    </tr>\n",
       "  </thead>\n",
       "  <tbody>\n",
       "    <tr>\n",
       "      <th>15</th>\n",
       "      <td>3948b09f7c818e2d86c9a546758b2335</td>\n",
       "      <td>e51478e7e277a83743b6f9991dbfa3fb</td>\n",
       "      <td>(0.8999999761581421, 1.7999999523162842, [{'name': 'Super', 'type': 'PERSON', 'salience': 0.326386034488678, 'wikipedia_url': '-', 'mid': '-'}, {'name': 'entrega', 'type': 'EVENT', 'salience': 0.18561504781246185, 'wikipedia_url': '-', 'mid': '-'}, {'name': 'Vendedor', 'type': 'PERSON', 'salience': 0.18386904895305634, 'wikipedia_url': '-', 'mid': '-'}, {'name': 'prazo', 'type': 'OTHER', 'salience': 0.17040300369262695, 'wikipedia_url': '-', 'mid': '-'}, {'name': 'produto', 'type': 'CONSUMER_GOOD', 'salience': 0.13372687995433807, 'wikipedia_url': '-', 'mid': '-'}], 2, 14, [Super recomendo., Vendedor confiável, produto ok e entrega antes do prazo.], [{'token_text': 'Super', 'token_label': 'NSUBJ', 'token_head_index': 1, 'token_tag': 'NOUN', 'token_gender': 'MASCULINE', 'token_number': 'SINGULAR', 'token_proper': 'PROPER', 'token_lemma': 'Super'}, {'token_text': 'recomendo', 'token_label': 'ROOT', 'token_head_index': 1, 'token_tag': 'VERB', 'token_gender': 'GENDER_UNKNOWN', 'token_number': 'SINGULAR', 'token_proper': 'NOT_PROPER', 'token_lemma': 'recomendar'}, {'token_text': '.', 'token_label': 'P', 'token_head_index': 1, 'token_tag': 'PUNCT', 'token_gender': 'GENDER_UNKNOWN', 'token_number': 'NUMBER_UNKNOWN', 'token_proper': 'NOT_PROPER', 'token_lemma': '.'}, {'token_text': 'Vendedor', 'token_label': 'ROOT', 'token_head_index': 3, 'token_tag': 'NOUN', 'token_gender': 'MASCULINE', 'token_number': 'SINGULAR', 'token_proper': 'PROPER', 'token_lemma': 'Vendedor'}, {'token_text': 'confiável', 'token_label': 'AMOD', 'token_head_index': 3, 'token_tag': 'ADJ', 'token_gender': 'MASCULINE', 'token_number': 'SINGULAR', 'token_proper': 'NOT_PROPER', 'token_lemma': 'confiável'}, {'token_text': ',', 'token_label': 'P', 'token_head_index': 3, 'token_tag': 'PUNCT', 'token_gender': 'GENDER_UNKNOWN', 'token_number': 'NUMBER_UNKNOWN', 'token_proper': 'NOT_PROPER', 'token_lemma': ','}, {'token_text': 'produto', 'token_label': 'CONJ', 'token_head_index': 3, 'token_tag': 'NOUN', 'token_gender': 'MASCULINE', 'token_number': 'SINGULAR', 'token_proper': 'NOT_PROPER', 'token_lemma': 'produto'}, {'token_text': 'ok', 'token_label': 'AMOD', 'token_head_index': 6, 'token_tag': 'ADJ', 'token_gender': 'MASCULINE', 'token_number': 'SINGULAR', 'token_proper': 'NOT_PROPER', 'token_lemma': 'ok'}, {'token_text': 'e', 'token_label': 'CC', 'token_head_index': 3, 'token_tag': 'CONJ', 'token_gender': 'GENDER_UNKNOWN', 'token_number': 'NUMBER_UNKNOWN', 'token_proper': 'NOT_PROPER', 'token_lemma': 'e'}, {'token_text': 'entrega', 'token_label': 'CONJ', 'token_head_index': 3, 'token_tag': 'NOUN', 'token_gender': 'FEMININE', 'token_number': 'SINGULAR', 'token_proper': 'NOT_PROPER', 'token_lemma': 'entrega'}, {'token_text': 'antes', 'token_label': 'ADVMOD', 'token_head_index': 3, 'token_tag': 'ADV', 'token_gender': 'GENDER_UNKNOWN', 'token_number': 'NUMBER_UNKNOWN', 'token_proper': 'NOT_PROPER', 'token_lemma': 'antes'}, {'token_text': 'do', 'token_label': 'PREP', 'token_head_index': 10, 'token_tag': 'ADP', 'token_gender': 'MASCULINE', 'token_number': 'SINGULAR', 'token_proper': 'NOT_PROPER', 'token_lemma': 'do'}, {'token_text': 'prazo', 'token_label': 'POBJ', 'token_head_index': 11, 'token_tag': 'NOUN', 'token_gender': 'MASCULINE', 'token_number': 'SINGULAR', 'token_proper': 'NOT_PROPER', 'token_lemma': 'prazo'}, {'token_text': '.', 'token_label': 'P', 'token_head_index': 3, 'token_tag': 'PUNCT', 'token_gender': 'GENDER_UNKNOWN', 'token_number': 'NUMBER_UNKNOWN', 'token_proper': 'NOT_PROPER', 'token_lemma': '.'}])</td>\n",
       "    </tr>\n",
       "    <tr>\n",
       "      <th>16</th>\n",
       "      <td>9314d6f9799f5bfba510cc7bcd468c01</td>\n",
       "      <td>0dacf04c5ad59fd5a0cc1faa07c34e39</td>\n",
       "      <td>(-0.10000000149011612, 0.10000000149011612, [{'name': 'ESSA', 'type': 'CONSUMER_GOOD', 'salience': 0.2512953281402588, 'wikipedia_url': '-', 'mid': '-'}, {'name': 'AGORA', 'type': 'OTHER', 'salience': 0.23210185766220093, 'wikipedia_url': '-', 'mid': '-'}, {'name': 'DECPCIONOU', 'type': 'CONSUMER_GOOD', 'salience': 0.213138148188591, 'wikipedia_url': '-', 'mid': '-'}, {'name': 'QUE', 'type': 'OTHER', 'salience': 0.17478658258914948, 'wikipedia_url': '-', 'mid': '-'}, {'name': 'SEMPRE', 'type': 'ORGANIZATION', 'salience': 0.128678098320961, 'wikipedia_url': '-', 'mid': '-'}], 1, 15, [GOSTARIA DE SABER O QUE HOUVE, SEMPRE RECEBI E ESSA COMPRA AGORA ME DECPCIONOU], [{'token_text': 'GOSTARIA', 'token_label': 'DISCOURSE', 'token_head_index': 5, 'token_tag': 'CONJ', 'token_gender': 'GENDER_UNKNOWN', 'token_number': 'NUMBER_UNKNOWN', 'token_proper': 'NOT_PROPER', 'token_lemma': 'GOSTARIA'}, {'token_text': 'DE', 'token_label': 'PREP', 'token_head_index': 5, 'token_tag': 'ADP', 'token_gender': 'GENDER_UNKNOWN', 'token_number': 'NUMBER_UNKNOWN', 'token_proper': 'PROPER', 'token_lemma': 'DE'}, {'token_text': 'SABER', 'token_label': 'PCOMP', 'token_head_index': 1, 'token_tag': 'VERB', 'token_gender': 'GENDER_UNKNOWN', 'token_number': 'NUMBER_UNKNOWN', 'token_proper': 'PROPER', 'token_lemma': 'SABER'}, {'token_text': 'O', 'token_label': 'DOBJ', 'token_head_index': 2, 'token_tag': 'PRON', 'token_gender': 'MASCULINE', 'token_number': 'SINGULAR', 'token_proper': 'NOT_PROPER', 'token_lemma': 'O'}, {'token_text': 'QUE', 'token_label': 'APPOS', 'token_head_index': 3, 'token_tag': 'NOUN', 'token_gender': 'MASCULINE', 'token_number': 'SINGULAR', 'token_proper': 'NOT_PROPER', 'token_lemma': 'QUE'}, {'token_text': 'HOUVE', 'token_label': 'ROOT', 'token_head_index': 5, 'token_tag': 'VERB', 'token_gender': 'GENDER_UNKNOWN', 'token_number': 'SINGULAR', 'token_proper': 'NOT_PROPER', 'token_lemma': 'HAVER'}, {'token_text': ',', 'token_label': 'P', 'token_head_index': 5, 'token_tag': 'PUNCT', 'token_gender': 'GENDER_UNKNOWN', 'token_number': 'NUMBER_UNKNOWN', 'token_proper': 'NOT_PROPER', 'token_lemma': ','}, {'token_text': 'SEMPRE', 'token_label': 'NSUBJ', 'token_head_index': 8, 'token_tag': 'NOUN', 'token_gender': 'MASCULINE', 'token_number': 'SINGULAR', 'token_proper': 'NOT_PROPER', 'token_lemma': 'SEMPRE'}, {'token_text': 'RECEBI', 'token_label': 'PARATAXIS', 'token_head_index': 5, 'token_tag': 'VERB', 'token_gender': 'GENDER_UNKNOWN', 'token_number': 'SINGULAR', 'token_proper': 'NOT_PROPER', 'token_lemma': 'RECEBER'}, {'token_text': 'E', 'token_label': 'CC', 'token_head_index': 8, 'token_tag': 'CONJ', 'token_gender': 'GENDER_UNKNOWN', 'token_number': 'NUMBER_UNKNOWN', 'token_proper': 'NOT_PROPER', 'token_lemma': 'E'}, {'token_text': 'ESSA', 'token_label': 'CONJ', 'token_head_index': 8, 'token_tag': 'NOUN', 'token_gender': 'MASCULINE', 'token_number': 'SINGULAR', 'token_proper': 'NOT_PROPER', 'token_lemma': 'ESSA'}, {'token_text': 'COMPRA', 'token_label': 'PREP', 'token_head_index': 10, 'token_tag': 'ADP', 'token_gender': 'GENDER_UNKNOWN', 'token_number': 'NUMBER_UNKNOWN', 'token_proper': 'NOT_PROPER', 'token_lemma': 'COMPRA'}, {'token_text': 'AGORA', 'token_label': 'POBJ', 'token_head_index': 11, 'token_tag': 'NOUN', 'token_gender': 'MASCULINE', 'token_number': 'SINGULAR', 'token_proper': 'PROPER', 'token_lemma': 'AGORA'}, {'token_text': 'ME', 'token_label': 'FOREIGN', 'token_head_index': 12, 'token_tag': 'NOUN', 'token_gender': 'MASCULINE', 'token_number': 'SINGULAR', 'token_proper': 'NOT_PROPER', 'token_lemma': 'ME'}, {'token_text': 'DECPCIONOU', 'token_label': 'FOREIGN', 'token_head_index': 12, 'token_tag': 'NOUN', 'token_gender': 'MASCULINE', 'token_number': 'SINGULAR', 'token_proper': 'PROPER', 'token_lemma': 'DECPCIONOU'}])</td>\n",
       "    </tr>\n",
       "    <tr>\n",
       "      <th>17</th>\n",
       "      <td>8e15a274d95600fa14f8be64e37a0e67</td>\n",
       "      <td>ff1581e08b3011021e7c7de592ddc81e</td>\n",
       "      <td>0</td>\n",
       "    </tr>\n",
       "    <tr>\n",
       "      <th>18</th>\n",
       "      <td>fdbdb2629a7cde0f66657acc92084e7f</td>\n",
       "      <td>70a752414a13d09cc1f2b437b914b28e</td>\n",
       "      <td>0</td>\n",
       "    </tr>\n",
       "    <tr>\n",
       "      <th>19</th>\n",
       "      <td>373cbeecea8286a2b66c97b1b157ec46</td>\n",
       "      <td>583174fbe37d3d5f0d6661be3aad1786</td>\n",
       "      <td>(-0.800000011920929, 1.600000023841858, [{'name': 'produto', 'type': 'CONSUMER_GOOD', 'salience': 0.5441972613334656, 'wikipedia_url': '-', 'mid': '-'}, {'name': 'Péssimo', 'type': 'OTHER', 'salience': 0.4558027386665344, 'wikipedia_url': '-', 'mid': '-'}], 2, 6, [Não chegou meu produto ., Péssimo], [{'token_text': 'Não', 'token_label': 'NEG', 'token_head_index': 1, 'token_tag': 'ADV', 'token_gender': 'GENDER_UNKNOWN', 'token_number': 'NUMBER_UNKNOWN', 'token_proper': 'NOT_PROPER', 'token_lemma': 'Não'}, {'token_text': 'chegou', 'token_label': 'ROOT', 'token_head_index': 1, 'token_tag': 'VERB', 'token_gender': 'GENDER_UNKNOWN', 'token_number': 'SINGULAR', 'token_proper': 'NOT_PROPER', 'token_lemma': 'chegar'}, {'token_text': 'meu', 'token_label': 'DET', 'token_head_index': 3, 'token_tag': 'PRON', 'token_gender': 'MASCULINE', 'token_number': 'SINGULAR', 'token_proper': 'NOT_PROPER', 'token_lemma': 'meu'}, {'token_text': 'produto', 'token_label': 'DOBJ', 'token_head_index': 1, 'token_tag': 'NOUN', 'token_gender': 'MASCULINE', 'token_number': 'SINGULAR', 'token_proper': 'NOT_PROPER', 'token_lemma': 'produto'}, {'token_text': '.', 'token_label': 'P', 'token_head_index': 1, 'token_tag': 'PUNCT', 'token_gender': 'GENDER_UNKNOWN', 'token_number': 'NUMBER_UNKNOWN', 'token_proper': 'NOT_PROPER', 'token_lemma': '.'}, {'token_text': 'Péssimo', 'token_label': 'ROOT', 'token_head_index': 5, 'token_tag': 'NOUN', 'token_gender': 'MASCULINE', 'token_number': 'SINGULAR', 'token_proper': 'NOT_PROPER', 'token_lemma': 'Péssimo'}])</td>\n",
       "    </tr>\n",
       "    <tr>\n",
       "      <th>20</th>\n",
       "      <td>a2ff510ca4e059c3fefc7a7866571f6f</td>\n",
       "      <td>a9953b2f0b1665ac7586cc5a6ac8f58c</td>\n",
       "      <td>0</td>\n",
       "    </tr>\n",
       "  </tbody>\n",
       "</table></div>"
      ],
      "text/plain": [
       "                           review_id                          order_id  \\\n",
       "15  3948b09f7c818e2d86c9a546758b2335  e51478e7e277a83743b6f9991dbfa3fb   \n",
       "16  9314d6f9799f5bfba510cc7bcd468c01  0dacf04c5ad59fd5a0cc1faa07c34e39   \n",
       "17  8e15a274d95600fa14f8be64e37a0e67  ff1581e08b3011021e7c7de592ddc81e   \n",
       "18  fdbdb2629a7cde0f66657acc92084e7f  70a752414a13d09cc1f2b437b914b28e   \n",
       "19  373cbeecea8286a2b66c97b1b157ec46  583174fbe37d3d5f0d6661be3aad1786   \n",
       "20  a2ff510ca4e059c3fefc7a7866571f6f  a9953b2f0b1665ac7586cc5a6ac8f58c   \n",
       "\n",
       "                                                  tmp  \n",
       "15  (0.8999999761581421, 1.7999999523162842, [{'na...  \n",
       "16  (-0.10000000149011612, 0.10000000149011612, [{...  \n",
       "17                                                  0  \n",
       "18                                                  0  \n",
       "19  (-0.800000011920929, 1.600000023841858, [{'nam...  \n",
       "20                                                  0  "
      ]
     },
     "execution_count": 101,
     "metadata": {},
     "output_type": "execute_result"
    }
   ],
   "source": [
    "df5[['review_id','order_id','tmp']][15:21]"
   ]
  },
  {
   "cell_type": "code",
   "execution_count": 109,
   "metadata": {},
   "outputs": [
    {
     "data": {
      "application/vnd.jupyter.widget-view+json": {
       "model_id": "eb53f61948d74f5ca4678823e84e46f2",
       "version_major": 2,
       "version_minor": 0
      },
      "text/plain": [
       "  0%|          | 0/99224 [00:00<?, ?it/s]"
      ]
     },
     "metadata": {},
     "output_type": "display_data"
    }
   ],
   "source": [
    "df3=df.tmp.progress_apply(pd.Series) # variant 2"
   ]
  },
  {
   "cell_type": "code",
   "execution_count": 110,
   "metadata": {},
   "outputs": [],
   "source": [
    "df3.rename(columns={0:'sent_score',1:'sent_magnitude', 2:'entities_list',3:'sentences_count',4:'token_count',5:'sentlist',6:'tokenlist'},  inplace=True)"
   ]
  },
  {
   "cell_type": "code",
   "execution_count": 111,
   "metadata": {},
   "outputs": [
    {
     "data": {
      "text/plain": [
       "(99224, 7)"
      ]
     },
     "execution_count": 111,
     "metadata": {},
     "output_type": "execute_result"
    }
   ],
   "source": [
    "df3.shape"
   ]
  },
  {
   "cell_type": "code",
   "execution_count": 117,
   "metadata": {},
   "outputs": [],
   "source": [
    "df3.to_csv(os.path.join(PATH, 'tmp_all_just.csv'), sep=';', header=True, index=False)"
   ]
  },
  {
   "cell_type": "code",
   "execution_count": 116,
   "metadata": {},
   "outputs": [
    {
     "data": {
      "text/html": [
       "<div><div id=53b7cd81-9e65-48ae-8c2c-b91fca5b9fa8 style=\"display:none; background-color:#9D6CFF; color:white; width:200px; height:30px; padding-left:5px; border-radius:4px; flex-direction:row; justify-content:space-around; align-items:center;\" onmouseover=\"this.style.backgroundColor='#BA9BF8'\" onmouseout=\"this.style.backgroundColor='#9D6CFF'\" onclick=\"window.commands?.execute('create-mitosheet-from-dataframe-output');\">See Full Dataframe in Mito</div> <script> if (window.commands.hasCommand('create-mitosheet-from-dataframe-output')) document.getElementById('53b7cd81-9e65-48ae-8c2c-b91fca5b9fa8').style.display = 'flex' </script> <table border=\"1\" class=\"dataframe\">\n",
       "  <thead>\n",
       "    <tr style=\"text-align: right;\">\n",
       "      <th></th>\n",
       "      <th>sent_score</th>\n",
       "      <th>sent_magnitude</th>\n",
       "      <th>entities_list</th>\n",
       "      <th>sentences_count</th>\n",
       "      <th>token_count</th>\n",
       "      <th>sentlist</th>\n",
       "      <th>tokenlist</th>\n",
       "    </tr>\n",
       "  </thead>\n",
       "  <tbody>\n",
       "    <tr>\n",
       "      <th>0</th>\n",
       "      <td>0.0</td>\n",
       "      <td>NaN</td>\n",
       "      <td>NaN</td>\n",
       "      <td>NaN</td>\n",
       "      <td>NaN</td>\n",
       "      <td>NaN</td>\n",
       "      <td>NaN</td>\n",
       "    </tr>\n",
       "    <tr>\n",
       "      <th>1</th>\n",
       "      <td>0.0</td>\n",
       "      <td>NaN</td>\n",
       "      <td>NaN</td>\n",
       "      <td>NaN</td>\n",
       "      <td>NaN</td>\n",
       "      <td>NaN</td>\n",
       "      <td>NaN</td>\n",
       "    </tr>\n",
       "    <tr>\n",
       "      <th>2</th>\n",
       "      <td>0.0</td>\n",
       "      <td>NaN</td>\n",
       "      <td>NaN</td>\n",
       "      <td>NaN</td>\n",
       "      <td>NaN</td>\n",
       "      <td>NaN</td>\n",
       "      <td>NaN</td>\n",
       "    </tr>\n",
       "    <tr>\n",
       "      <th>3</th>\n",
       "      <td>0.9</td>\n",
       "      <td>0.9</td>\n",
       "      <td>[{'name': 'prazo', 'type': 'OTHER', 'salience': 1.0, 'wikipedia_url': '-', 'mid': '-'}]</td>\n",
       "      <td>1</td>\n",
       "      <td>7</td>\n",
       "      <td>[Recebi bem antes do prazo estipulado.]</td>\n",
       "      <td>[{'token_text': 'Recebi', 'token_label': 'ROOT', 'token_head_index': 0, 'token_tag': 'VERB', 'token_gender': 'GENDER_UNKNOWN', 'token_number': 'SINGULAR', 'token_proper': 'NOT_PROPER', 'token_lemma': 'Receber'}, {'token_text': 'bem', 'token_label': 'ADVMOD', 'token_head_index': 2, 'token_tag': 'ADV', 'token_gender': 'GENDER_UNKNOWN', 'token_number': 'NUMBER_UNKNOWN', 'token_proper': 'NOT_PROPER', 'token_lemma': 'bem'}, {'token_text': 'antes', 'token_label': 'ADVMOD', 'token_head_index': 0, 'token_tag': 'ADV', 'token_gender': 'GENDER_UNKNOWN', 'token_number': 'NUMBER_UNKNOWN', 'token_proper': 'NOT_PROPER', 'token_lemma': 'antes'}, {'token_text': 'do', 'token_label': 'PREP', 'token_head_index': 2, 'token_tag': 'ADP', 'token_gender': 'MASCULINE', 'token_number': 'SINGULAR', 'token_proper': 'NOT_PROPER', 'token_lemma': 'do'}, {'token_text': 'prazo', 'token_label': 'POBJ', 'token_head_index': 3, 'token_tag': 'NOUN', 'token_gender': 'MASCULINE', 'token_number': 'SINGULAR', 'token_proper': 'NOT_PROPER', 'token_lemma': 'prazo'}, {'token_text': 'estipulado', 'token_label': 'AMOD', 'token_head_index': 4, 'token_tag': 'ADJ', 'token_gender': 'MASCULINE', 'token_number': 'SINGULAR', 'token_proper': 'NOT_PROPER', 'token_lemma': 'estipulado'}, {'token_text': '.', 'token_label': 'P', 'token_head_index': 0, 'token_tag': 'PUNCT', 'token_gender': 'GENDER_UNKNOWN', 'token_number': 'NUMBER_UNKNOWN', 'token_proper': 'NOT_PROPER', 'token_lemma': '.'}]</td>\n",
       "    </tr>\n",
       "  </tbody>\n",
       "</table></div>"
      ],
      "text/plain": [
       "  sent_score sent_magnitude  \\\n",
       "0        0.0            NaN   \n",
       "1        0.0            NaN   \n",
       "2        0.0            NaN   \n",
       "3        0.9            0.9   \n",
       "\n",
       "                                       entities_list sentences_count  \\\n",
       "0                                                NaN             NaN   \n",
       "1                                                NaN             NaN   \n",
       "2                                                NaN             NaN   \n",
       "3  [{'name': 'prazo', 'type': 'OTHER', 'salience'...               1   \n",
       "\n",
       "  token_count                                 sentlist  \\\n",
       "0         NaN                                      NaN   \n",
       "1         NaN                                      NaN   \n",
       "2         NaN                                      NaN   \n",
       "3           7  [Recebi bem antes do prazo estipulado.]   \n",
       "\n",
       "                                           tokenlist  \n",
       "0                                                NaN  \n",
       "1                                                NaN  \n",
       "2                                                NaN  \n",
       "3  [{'token_text': 'Recebi', 'token_label': 'ROOT...  "
      ]
     },
     "execution_count": 116,
     "metadata": {},
     "output_type": "execute_result"
    }
   ],
   "source": [
    "df3.head(4)"
   ]
  },
  {
   "cell_type": "code",
   "execution_count": 115,
   "metadata": {},
   "outputs": [
    {
     "name": "stdout",
     "output_type": "stream",
     "text": [
      "(99224, 16)\n"
     ]
    }
   ],
   "source": [
    "df4=pd.concat([df,df3],ignore_index=False, axis=1)\n",
    "print(df4.shape)"
   ]
  },
  {
   "cell_type": "markdown",
   "metadata": {},
   "source": [
    "## Это финальный файл для дальнейшей работы - ключевые поля 'review_id','order_id' и развернутые данные из API\n",
    "\n",
    "На всякий случай сохраняю с двумя разными разделителями. А также полный файл и сокращенные. На гитхаб эти файлы в оригинальном виде не поместяться"
   ]
  },
  {
   "cell_type": "code",
   "execution_count": 123,
   "metadata": {},
   "outputs": [],
   "source": [
    "columns_for_used=['review_id','order_id','sent_score','sent_magnitude', 'entities_list','sentences_count','token_count','sentlist','tokenlist']\n",
    "columns_for_used_num=['review_id','order_id','sent_score','sent_magnitude', 'sentences_count','token_count']\n",
    "columns_for_used_entit=['review_id','order_id','entities_list']\n",
    "columns_for_used_sent=['review_id','order_id','sentlist']\n",
    "columns_for_used_token=['review_id','order_id','tokenlist']"
   ]
  },
  {
   "cell_type": "code",
   "execution_count": 120,
   "metadata": {},
   "outputs": [],
   "source": [
    "df4.to_csv(os.path.join(PATH, 'order_reviews_only_Google_full.csv'), sep=';', header=True, index=False)"
   ]
  },
  {
   "cell_type": "code",
   "execution_count": 121,
   "metadata": {},
   "outputs": [],
   "source": [
    "df4.to_csv(os.path.join(PATH, 'order_reviews_only_Google_full2.csv'), sep='|', header=True, index=False)"
   ]
  },
  {
   "cell_type": "code",
   "execution_count": 119,
   "metadata": {},
   "outputs": [],
   "source": [
    "df4[columns_for_used].to_csv(os.path.join(PATH, 'order_reviews_only_Google1.csv'), sep=';', header=True, index=False)"
   ]
  },
  {
   "cell_type": "code",
   "execution_count": 122,
   "metadata": {},
   "outputs": [],
   "source": [
    "df4[columns_for_used].to_csv(os.path.join(PATH, 'order_reviews_only_Google2.csv'), sep='|', header=True, index=False)"
   ]
  },
  {
   "cell_type": "code",
   "execution_count": 124,
   "metadata": {},
   "outputs": [],
   "source": [
    "df4[columns_for_used_num].to_csv(os.path.join(PATH, 'order_reviews_only_Google_num1.csv'), sep=';', header=True, index=False)\n",
    "df4[columns_for_used_num].to_csv(os.path.join(PATH, 'order_reviews_only_Google_num2.csv'), sep='|', header=True, index=False)"
   ]
  },
  {
   "cell_type": "code",
   "execution_count": 125,
   "metadata": {},
   "outputs": [],
   "source": [
    "df4[columns_for_used_entit].to_csv(os.path.join(PATH, 'order_reviews_only_Google_entit1.csv'), sep=';', header=True, index=False)\n",
    "df4[columns_for_used_entit].to_csv(os.path.join(PATH, 'order_reviews_only_Google_entit2.csv'), sep='|', header=True, index=False)"
   ]
  },
  {
   "cell_type": "code",
   "execution_count": 126,
   "metadata": {},
   "outputs": [],
   "source": [
    "df4[columns_for_used_sent].to_csv(os.path.join(PATH, 'order_reviews_only_Google_sent1.csv'), sep=';', header=True, index=False)\n",
    "df4[columns_for_used_sent].to_csv(os.path.join(PATH, 'order_reviews_only_Google_sent2.csv'), sep='|', header=True, index=False)"
   ]
  },
  {
   "cell_type": "code",
   "execution_count": 127,
   "metadata": {},
   "outputs": [],
   "source": [
    "df4[columns_for_used_token].to_csv(os.path.join(PATH, 'order_reviews_only_Google_token1.csv'), sep=';', header=True, index=False)\n",
    "df4[columns_for_used_token].to_csv(os.path.join(PATH, 'order_reviews_only_Google_token2.csv'), sep='|', header=True, index=False)"
   ]
  },
  {
   "cell_type": "code",
   "execution_count": null,
   "metadata": {},
   "outputs": [],
   "source": []
  }
 ],
 "metadata": {
  "kernelspec": {
   "display_name": "Python 3",
   "language": "python",
   "name": "python3"
  },
  "language_info": {
   "codemirror_mode": {
    "name": "ipython",
    "version": 3
   },
   "file_extension": ".py",
   "mimetype": "text/x-python",
   "name": "python",
   "nbconvert_exporter": "python",
   "pygments_lexer": "ipython3",
   "version": "3.7.2"
  }
 },
 "nbformat": 4,
 "nbformat_minor": 4
}
