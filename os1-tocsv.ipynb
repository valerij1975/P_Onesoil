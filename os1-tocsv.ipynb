{
 "cells": [
  {
   "cell_type": "markdown",
   "metadata": {},
   "source": [
    "**Cохранение таблиц из базы в файлы csv для использования в Pandas. Описание схемы базы данных**"
   ]
  },
  {
   "cell_type": "markdown",
   "metadata": {},
   "source": [
    "# Импорт библиотек, общие настройки"
   ]
  },
  {
   "cell_type": "code",
   "execution_count": 1,
   "metadata": {},
   "outputs": [],
   "source": [
    "import os\n",
    "import pandas as pd\n",
    "import psycopg2"
   ]
  },
  {
   "cell_type": "code",
   "execution_count": 2,
   "metadata": {},
   "outputs": [],
   "source": [
    "import ipywidgets\n",
    "from ipywidgets import interact, interact_manual, widgets, Button, DatePicker, Layout\n",
    "from IPython.display import display, clear_output, HTML"
   ]
  },
  {
   "cell_type": "code",
   "execution_count": 3,
   "metadata": {},
   "outputs": [],
   "source": [
    "PATH = \"./data\" # относительный путь к подпапке.\n",
    "pd.set_option('display.max_columns', None)\n"
   ]
  },
  {
   "cell_type": "code",
   "execution_count": null,
   "metadata": {},
   "outputs": [],
   "source": [
    "# Close communication with the database\n",
    "#cursor.close()\n",
    "#conn.close()"
   ]
  },
  {
   "cell_type": "code",
   "execution_count": 5,
   "metadata": {},
   "outputs": [],
   "source": [
    "conn = psycopg2.connect(\"\"\"\n",
    "    host=----\n",
    "    port=6432\n",
    "    dbname=olist\n",
    "    user=-----\n",
    "    password=----\n",
    "    target_session_attrs=read-write\n",
    "    sslmode=verify-full\n",
    "\"\"\") "
   ]
  },
  {
   "cell_type": "code",
   "execution_count": 6,
   "metadata": {},
   "outputs": [
    {
     "name": "stdout",
     "output_type": "stream",
     "text": [
      "Информация о сервере PostgreSQL\n",
      "{'user': 'user1', 'channel_binding': 'prefer', 'dbname': 'olist', 'host': 'rc1c-5lsfxv5qer0uol30.mdb.yandexcloud.net', 'port': '6432', 'tty': '', 'options': '', 'sslmode': 'verify-full', 'sslcompression': '0', 'ssl_min_protocol_version': 'TLSv1.2', 'gssencmode': 'prefer', 'krbsrvname': 'postgres', 'target_session_attrs': 'read-write'} \n",
      "\n"
     ]
    }
   ],
   "source": [
    "print(\"Информация о сервере PostgreSQL\")\n",
    "print(conn.get_dsn_parameters(), \"\\n\")"
   ]
  },
  {
   "cell_type": "markdown",
   "metadata": {},
   "source": [
    "# Подключение к базе, изучение схемы базы, выгрузка данных для статического первичного анализа структуры информации"
   ]
  },
  {
   "cell_type": "code",
   "execution_count": 6,
   "metadata": {},
   "outputs": [],
   "source": [
    "cursor = conn.cursor()"
   ]
  },
  {
   "cell_type": "code",
   "execution_count": 7,
   "metadata": {},
   "outputs": [
    {
     "name": "stdout",
     "output_type": "stream",
     "text": [
      "Вы подключены к -  ('PostgreSQL 13.4 (Ubuntu 13.4-201-yandex.50204.1072273362) on x86_64-pc-linux-gnu, compiled by gcc (Ubuntu 7.5.0-3ubuntu1~18.04) 7.5.0, 64-bit',) \n",
      "\n"
     ]
    }
   ],
   "source": [
    "# Выполнение SQL-запроса\n",
    "cursor.execute(\"SELECT version();\")\n",
    "# Получить результат\n",
    "record = cursor.fetchone()\n",
    "print(\"Вы подключены к - \", record, \"\\n\")"
   ]
  },
  {
   "cell_type": "code",
   "execution_count": 8,
   "metadata": {},
   "outputs": [
    {
     "name": "stdout",
     "output_type": "stream",
     "text": [
      "Список таблиц -  [('closed_deals',), ('customers',), ('geolocation',), ('marketing_qualified_leads',), ('order_items',), ('order_payments',), ('order_reviews',), ('orders',), ('products',), ('sellers',)] \n",
      "\n"
     ]
    }
   ],
   "source": [
    "cursor.execute(\"SELECT table_name FROM information_schema.tables WHERE table_schema NOT IN ('information_schema','pg_catalog');\")\n",
    "record = cursor.fetchall()\n",
    "print(\"Список таблиц - \", record, \"\\n\")"
   ]
  },
  {
   "cell_type": "code",
   "execution_count": 38,
   "metadata": {},
   "outputs": [
    {
     "data": {
      "text/plain": [
       "10"
      ]
     },
     "execution_count": 38,
     "metadata": {},
     "output_type": "execute_result"
    }
   ],
   "source": [
    "# количество таблиц в базе данных\n",
    "# len(record)"
   ]
  },
  {
   "cell_type": "code",
   "execution_count": 39,
   "metadata": {},
   "outputs": [
    {
     "name": "stdout",
     "output_type": "stream",
     "text": [
      "('closed_deals',)\n",
      "closed_deals\n"
     ]
    }
   ],
   "source": [
    "# название таблицы\n",
    "# print(record[0])\n",
    "# print(record[0][0])"
   ]
  },
  {
   "cell_type": "code",
   "execution_count": 10,
   "metadata": {},
   "outputs": [
    {
     "name": "stdout",
     "output_type": "stream",
     "text": [
      "Список таблиц и полей -  [('products', 4, 'product_description_lenght'), ('customers', 3, 'customer_zip_code_prefix'), ('geolocation', 2, 'geolocation_lat'), ('order_items', 2, 'order_item_id'), ('orders', 8, 'order_estimated_delivery_date'), ('products', 1, 'product_id'), ('order_reviews', 6, 'review_creation_date'), ('closed_deals', 13, 'declared_product_catalog_size'), ('customers', 1, 'customer_id'), ('orders', 6, 'order_delivered_carrier_date'), ('products', 3, 'product_name_lenght'), ('closed_deals', 5, 'won_date'), ('products', 7, 'product_length_cm'), ('products', 9, 'product_width_cm'), ('customers', 4, 'customer_city'), ('sellers', 1, 'seller_id'), ('closed_deals', 10, 'has_gtin'), ('closed_deals', 12, 'business_type'), ('order_payments', 3, 'payment_type'), ('orders', 1, 'order_id'), ('products', 8, 'product_height_cm'), ('closed_deals', 2, 'seller_id'), ('order_reviews', 1, 'review_id'), ('orders', 4, 'order_purchase_timestamp'), ('closed_deals', 11, 'average_stock'), ('order_reviews', 4, 'review_comment_title'), ('sellers', 4, 'seller_state'), ('marketing_qualified_leads', 2, 'first_contact_date'), ('order_reviews', 7, 'review_answer_timestamp'), ('orders', 7, 'order_delivered_customer_date'), ('order_payments', 4, 'payment_installments'), ('products', 6, 'product_weight_g'), ('geolocation', 5, 'geolocation_state'), ('order_payments', 1, 'order_id'), ('sellers', 3, 'seller_city'), ('order_items', 5, 'shipping_limit_date'), ('order_reviews', 3, 'review_score'), ('orders', 3, 'order_status'), ('closed_deals', 9, 'has_company'), ('marketing_qualified_leads', 1, 'mql_id'), ('closed_deals', 7, 'lead_type'), ('products', 5, 'product_photos_qty'), ('closed_deals', 3, 'sdr_id'), ('marketing_qualified_leads', 4, 'origin'), ('closed_deals', 14, 'declared_monthly_revenue'), ('order_items', 6, 'price'), ('order_payments', 2, 'payment_sequential'), ('closed_deals', 1, 'mql_id'), ('order_reviews', 2, 'order_id'), ('orders', 2, 'customer_id'), ('customers', 5, 'customer_state'), ('sellers', 2, 'seller_zip_code_prefix'), ('marketing_qualified_leads', 3, 'landing_page_id'), ('closed_deals', 4, 'sr_id'), ('order_reviews', 5, 'review_comment_message'), ('order_items', 3, 'product_id'), ('orders', 5, 'order_approved_at'), ('customers', 2, 'customer_unique_id'), ('geolocation', 3, 'geolocation_lng'), ('closed_deals', 6, 'business_segment'), ('order_items', 7, 'freight_value'), ('geolocation', 4, 'geolocation_city'), ('order_items', 4, 'seller_id'), ('products', 2, 'product_category_name'), ('closed_deals', 8, 'lead_behaviour_profile'), ('order_items', 1, 'order_id'), ('order_payments', 5, 'payment_value'), ('geolocation', 1, 'geolocation_zip_code_prefix')] \n",
      "\n"
     ]
    }
   ],
   "source": [
    "# Список таблиц и полей\n",
    "query_txt=\"SELECT table_name, ordinal_position, column_name FROM information_schema.columns WHERE table_schema NOT IN ('information_schema','pg_catalog');\"\n",
    "\n",
    "cursor.execute(query_txt)\n",
    "record = cursor.fetchall()\n",
    "print(\"Список таблиц и полей - \", record, \"\\n\")"
   ]
  },
  {
   "cell_type": "code",
   "execution_count": 11,
   "metadata": {},
   "outputs": [
    {
     "data": {
      "text/html": [
       "<div><div id=56f3ff32-f612-47f6-bd04-dae3f22ef2a0 style=\"display:none; background-color:#9D6CFF; color:white; width:200px; height:30px; padding-left:5px; border-radius:4px; flex-direction:row; justify-content:space-around; align-items:center;\" onmouseover=\"this.style.backgroundColor='#BA9BF8'\" onmouseout=\"this.style.backgroundColor='#9D6CFF'\" onclick=\"window.commands?.execute('create-mitosheet-from-dataframe-output');\">See Full Dataframe in Mito</div> <script> if (window.commands.hasCommand('create-mitosheet-from-dataframe-output')) document.getElementById('56f3ff32-f612-47f6-bd04-dae3f22ef2a0').style.display = 'flex' </script> <table border=\"1\" class=\"dataframe\">\n",
       "  <thead>\n",
       "    <tr style=\"text-align: right;\">\n",
       "      <th></th>\n",
       "      <th>table_name</th>\n",
       "      <th>column_position</th>\n",
       "      <th>column_name</th>\n",
       "    </tr>\n",
       "  </thead>\n",
       "  <tbody>\n",
       "    <tr>\n",
       "      <th>47</th>\n",
       "      <td>closed_deals</td>\n",
       "      <td>1</td>\n",
       "      <td>mql_id</td>\n",
       "    </tr>\n",
       "    <tr>\n",
       "      <th>21</th>\n",
       "      <td>closed_deals</td>\n",
       "      <td>2</td>\n",
       "      <td>seller_id</td>\n",
       "    </tr>\n",
       "    <tr>\n",
       "      <th>42</th>\n",
       "      <td>closed_deals</td>\n",
       "      <td>3</td>\n",
       "      <td>sdr_id</td>\n",
       "    </tr>\n",
       "  </tbody>\n",
       "</table></div>"
      ],
      "text/plain": [
       "      table_name  column_position column_name\n",
       "47  closed_deals                1      mql_id\n",
       "21  closed_deals                2   seller_id\n",
       "42  closed_deals                3      sdr_id"
      ]
     },
     "execution_count": 11,
     "metadata": {},
     "output_type": "execute_result"
    }
   ],
   "source": [
    "# создание датафрейма со списком таблиц и полей\n",
    "df_shema=pd.DataFrame(list(record), columns=['table_name','column_position','column_name']).sort_values(['table_name','column_position'])\n",
    "df_shema.head(3)\n"
   ]
  },
  {
   "cell_type": "code",
   "execution_count": null,
   "metadata": {},
   "outputs": [],
   "source": [
    "df_shema.to_csv(os.path.join(PATH, 'chema.csv'), sep=';', header=True, index=False)"
   ]
  },
  {
   "cell_type": "code",
   "execution_count": 4,
   "metadata": {},
   "outputs": [],
   "source": [
    "df_shema = pd.read_csv(os.path.join(PATH, 'chema.csv'), sep=';')"
   ]
  },
  {
   "cell_type": "code",
   "execution_count": 5,
   "metadata": {},
   "outputs": [],
   "source": [
    "# список таблиц базы\n",
    "list_of_tables=df_shema['table_name'].unique()"
   ]
  },
  {
   "cell_type": "code",
   "execution_count": 14,
   "metadata": {},
   "outputs": [
    {
     "data": {
      "text/plain": [
       "{'closed_deals': 842,\n",
       " 'customers': 99441,\n",
       " 'geolocation': 1000163,\n",
       " 'marketing_qualified_leads': 8000,\n",
       " 'order_items': 112650,\n",
       " 'order_payments': 103886,\n",
       " 'order_reviews': 99224,\n",
       " 'orders': 99441,\n",
       " 'products': 32951,\n",
       " 'sellers': 3095}"
      ]
     },
     "execution_count": 14,
     "metadata": {},
     "output_type": "execute_result"
    }
   ],
   "source": [
    "# Количество строк таблиц\n",
    "rows_in_table={}\n",
    "\n",
    "for item in list_of_tables:\n",
    "    #print(item)\n",
    "    query_txt=\"SELECT count(*) FROM \"+item+\";\"\n",
    "    cursor.execute(query_txt)\n",
    "    record = cursor.fetchone()\n",
    "    rows_in_table[item]=record[0]\n",
    "#print(\"Количество строк - \", record, \"\\n\")\n",
    "rows_in_table"
   ]
  },
  {
   "cell_type": "code",
   "execution_count": 19,
   "metadata": {},
   "outputs": [
    {
     "name": "stdout",
     "output_type": "stream",
     "text": [
      "closed_deals  Количество строк -  842\n",
      "customers  Количество строк -  99441\n",
      "geolocation  Количество строк -  1000163\n",
      "marketing_qualified_leads  Количество строк -  8000\n",
      "order_items  Количество строк -  112650\n",
      "order_payments  Количество строк -  103886\n",
      "order_reviews  Количество строк -  99224\n",
      "orders  Количество строк -  99441\n",
      "products  Количество строк -  32951\n",
      "sellers  Количество строк -  3095\n"
     ]
    }
   ],
   "source": [
    "# Сохранение всех таблиц в csv\n",
    "list_tables_for_upload=list_of_tables # ['geolocation']#,'sellers','products']\n",
    "for item in list_tables_for_upload:\n",
    "    query_txt=\"SELECT * FROM \"+item+\";\"\n",
    "    cursor.execute(query_txt)\n",
    "    record = cursor.fetchall()\n",
    "    col_names = []\n",
    "    for item_col in cursor.description:\n",
    "        col_names.append(item_col[0])\n",
    "    print(item, \" Количество строк - \", len(record))\n",
    "    df1=pd.DataFrame(record, columns=col_names)\n",
    "    df1.to_csv(os.path.join(PATH, item+'.csv'), sep=';', header=True, index=False)"
   ]
  },
  {
   "cell_type": "markdown",
   "metadata": {
    "tags": []
   },
   "source": [
    "# Описание таблиц и полей"
   ]
  },
  {
   "cell_type": "code",
   "execution_count": 6,
   "metadata": {},
   "outputs": [],
   "source": [
    "df_table_descr = pd.read_csv(os.path.join(PATH, 'table_description.csv'), sep=';')\n",
    "df_column_descr = pd.read_csv(os.path.join(PATH, 'column_description.csv'), sep=';')"
   ]
  },
  {
   "cell_type": "code",
   "execution_count": 7,
   "metadata": {},
   "outputs": [
    {
     "name": "stdout",
     "output_type": "stream",
     "text": [
      "['closed_deals', 'customers', 'geolocation', 'marketing_qualified_leads', 'order_items', 'order_payments', 'order_reviews', 'orders', 'products', 'sellers', 'product_category_name_translation']\n"
     ]
    },
    {
     "data": {
      "application/vnd.jupyter.widget-view+json": {
       "model_id": "f240695d398b4e38952bd0e1447bd2ea",
       "version_major": 2,
       "version_minor": 0
      },
      "text/plain": [
       "interactive(children=(Dropdown(description='Таблица:', options=('closed_deals', 'customers', 'geolocation', 'm…"
      ]
     },
     "metadata": {},
     "output_type": "display_data"
    }
   ],
   "source": [
    "a5=list(list_of_tables)+['product_category_name_translation']  # формируем список таблиц для выбора\n",
    "print(a5)\n",
    "# Интерактивный выбор из списка и показ отфильтрованных строк (или другие действия, которые надо сделать)\n",
    "@interact\n",
    "def wwww(w5 = widgets.Dropdown(options=a5, value='closed_deals',description='Таблица:')):\n",
    "    #pass\n",
    "    global df_table_descr\n",
    "    global df_column_descr\n",
    "    df_filter_table=df_table_descr[df_table_descr['onesoil_table'].str.contains(w5)]\n",
    "    df_filter_column=df_column_descr[df_column_descr['onesoil_table'].str.contains(w5)]\n",
    "    display(HTML(df_filter_table.to_html(escape=False)))\n",
    "    display(HTML( df_filter_column.to_html(escape=False)))"
   ]
  },
  {
   "cell_type": "code",
   "execution_count": null,
   "metadata": {},
   "outputs": [],
   "source": []
  }
 ],
 "metadata": {
  "kernelspec": {
   "display_name": "Python 3",
   "language": "python",
   "name": "python3"
  },
  "language_info": {
   "codemirror_mode": {
    "name": "ipython",
    "version": 3
   },
   "file_extension": ".py",
   "mimetype": "text/x-python",
   "name": "python",
   "nbconvert_exporter": "python",
   "pygments_lexer": "ipython3",
   "version": "3.7.2"
  }
 },
 "nbformat": 4,
 "nbformat_minor": 4
}
